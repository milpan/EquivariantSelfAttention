{
 "cells": [
  {
   "cell_type": "markdown",
   "id": "polished-kidney",
   "metadata": {},
   "source": [
    "This notebook demonstrates using the Fisher Information to calculate generalisability and trainability metrics"
   ]
  },
  {
   "cell_type": "code",
   "execution_count": 1,
   "id": "honest-replica",
   "metadata": {},
   "outputs": [
    {
     "name": "stdout",
     "output_type": "stream",
     "text": [
      "fatal: destination path 'MiraBest' already exists and is not an empty directory.\n"
     ]
    }
   ],
   "source": [
    "import os\n",
    "import sys\n",
    "\n",
    "import torch\n",
    "import torch.nn as nn\n",
    "import torch.nn.functional as F\n",
    "import torch.optim as optim\n",
    "from torchvision import transforms\n",
    "import PIL\n",
    "\n",
    "from torchsummary import summary\n",
    "\n",
    "import pandas as pd\n",
    "import numpy as np\n",
    "import matplotlib.pyplot as plt\n",
    "import configparser as ConfigParser\n",
    "\n",
    "\n",
    "import utils\n",
    "# Ipmport various network architectures\n",
    "from networks import AGRadGalNet, VanillaLeNet, testNet, DNSteerableLeNet, DNSteerableAGRadGalNet\n",
    "# Import various data classes\n",
    "from datasets import FRDEEPF\n",
    "from datasets import MiraBest_full, MBFRConfident, MBFRUncertain, MBHybrid\n",
    "from datasets import MingoLoTSS, MLFR, MLFRTest\n",
    "\n",
    "!git clone https://github.com/fmporter/MiraBest\n",
    "from MiraBest import MiraBest"
   ]
  },
  {
   "cell_type": "markdown",
   "id": "extensive-tribute",
   "metadata": {},
   "source": [
    "Load in the dataset and the relevant configuration"
   ]
  },
  {
   "cell_type": "code",
   "execution_count": 2,
   "id": "sound-cincinnati",
   "metadata": {},
   "outputs": [
    {
     "name": "stderr",
     "output_type": "stream",
     "text": [
      "/raid/scratch/mattyb/venv/lib/python3.8/site-packages/torchvision/transforms/transforms.py:1314: UserWarning: Argument resample is deprecated and will be removed since v0.10.0. Please, use interpolation instead\n",
      "  warnings.warn(\n"
     ]
    },
    {
     "name": "stdout",
     "output_type": "stream",
     "text": [
      "Files already downloaded and verified\n",
      "Files already downloaded and verified\n"
     ]
    }
   ],
   "source": [
    "\n",
    "PATH = \"configs/\"\n",
    "cfg_base = \"C4_attention_mirabest.cfg\"\n",
    "config = ConfigParser.ConfigParser(allow_no_value=True)\n",
    "config.read(PATH + cfg_base)\n",
    "device = \"cuda\"\n",
    "\n",
    "train_loader, valid_loader  = utils.data.load(\n",
    "    config, \n",
    "    train=True, \n",
    "    augmentation='config', \n",
    "    data_loader=True\n",
    ")\n",
    "\n",
    "transform = transforms.Compose(\n",
    "    [transforms.ToTensor(),\n",
    "     transforms.Normalize([0.5],[0.5])])\n",
    "trainset = MiraBest.MiraBest(root='./batches', train=True, download=True, transform=transform)  \n",
    "batch_size_train = 1\n",
    "single_train_loader = torch.utils.data.DataLoader(trainset, batch_size=batch_size_train, shuffle=False, num_workers=0)\n"
   ]
  },
  {
   "cell_type": "code",
   "execution_count": 3,
   "id": "loved-setup",
   "metadata": {},
   "outputs": [
    {
     "name": "stdout",
     "output_type": "stream",
     "text": [
      "Loading in DNSteerableAGRadGalNet\n"
     ]
    },
    {
     "name": "stderr",
     "output_type": "stream",
     "text": [
      "/raid/scratch/mattyb/venv/lib/python3.8/site-packages/e2cnn/nn/modules/r2_conv/basisexpansion_singleblock.py:61: UserWarning: indexing with dtype torch.uint8 is now deprecated, please use a dtype torch.bool instead. (Triggered internally at  /pytorch/aten/src/ATen/native/IndexingUtils.h:30.)\n",
      "  sampled_basis = sampled_basis[mask, ...]\n"
     ]
    },
    {
     "name": "stdout",
     "output_type": "stream",
     "text": [
      "cuda\n"
     ]
    }
   ],
   "source": [
    "print(f\"Loading in {config['model']['base']}\")\n",
    "net = locals()[config['model']['base']](**config['model']).to(device)\n",
    "\n",
    "quiet = config.getboolean('DEFAULT', 'quiet')\n",
    "early_stopping = config.getboolean('training', 'early_stopping')\n",
    "\n",
    "# Read / Create Folder for Data to be Saved\n",
    "root = config['data']['directory']\n",
    "os.makedirs(root, exist_ok=True)\n",
    "\n",
    "if not quiet:\n",
    "    if 'DN' not in config['model']['base']:\n",
    "        summary(net, (1, 150, 150))\n",
    "    print(device)\n",
    "    if device == torch.device('cuda'):\n",
    "        summary(net, (1,150,150))\n",
    "        print(torch.cuda.get_device_name(device=device))"
   ]
  },
  {
   "cell_type": "markdown",
   "id": "prerequisite-interval",
   "metadata": {},
   "source": [
    "Attempt to load in the best saved model"
   ]
  },
  {
   "cell_type": "code",
   "execution_count": 4,
   "id": "based-export",
   "metadata": {},
   "outputs": [],
   "source": [
    "path_supliment = config['data']['augment']+'/'\n",
    "model = utils.utils.load_model(config, load_model='best', device=device, path_supliment=path_supliment)"
   ]
  },
  {
   "cell_type": "code",
   "execution_count": 17,
   "id": "lesser-prague",
   "metadata": {},
   "outputs": [
    {
     "name": "stdout",
     "output_type": "stream",
     "text": [
      "mask.mask\n",
      "conv1a.weights\n",
      "bnorm1a.batch_norm_[4].weight\n",
      "bnorm1a.batch_norm_[4].bias\n",
      "conv1b.weights\n",
      "bnorm1b.batch_norm_[4].weight\n",
      "bnorm1b.batch_norm_[4].bias\n",
      "conv1c.weights\n",
      "bnorm1c.batch_norm_[4].weight\n",
      "bnorm1c.batch_norm_[4].bias\n",
      "conv2a.weights\n",
      "bnorm2a.batch_norm_[4].weight\n",
      "bnorm2a.batch_norm_[4].bias\n",
      "conv2b.weights\n",
      "bnorm2b.batch_norm_[4].weight\n",
      "bnorm2b.batch_norm_[4].bias\n",
      "conv2c.weights\n",
      "bnorm2c.batch_norm_[4].weight\n",
      "bnorm2c.batch_norm_[4].bias\n",
      "conv3a.weights\n",
      "bnorm3a.batch_norm_[4].weight\n",
      "bnorm3a.batch_norm_[4].bias\n",
      "conv3b.weights\n",
      "bnorm3b.batch_norm_[4].weight\n",
      "bnorm3b.batch_norm_[4].bias\n",
      "conv3c.weights\n",
      "bnorm3c.batch_norm_[4].weight\n",
      "bnorm3c.batch_norm_[4].bias\n",
      "conv4a.weights\n",
      "bnorm4a.batch_norm_[4].weight\n",
      "bnorm4a.batch_norm_[4].bias\n",
      "conv4b.weights\n",
      "bnorm4b.batch_norm_[4].weight\n",
      "bnorm4b.batch_norm_[4].bias\n",
      "attention1.theta.weight\n",
      "attention1.phi.weight\n",
      "attention1.psi.weight\n",
      "attention1.psi.bias\n",
      "attention2.theta.weight\n",
      "attention2.phi.weight\n",
      "attention2.psi.weight\n",
      "attention2.psi.bias\n",
      "attention3.theta.weight\n",
      "attention3.phi.weight\n",
      "attention3.psi.weight\n",
      "attention3.psi.bias\n",
      "fc1.weight\n",
      "fc1.bias\n",
      "fc2.weight\n",
      "fc2.bias\n",
      "fc3.weight\n",
      "fc3.bias\n",
      "classifiers.0.weight\n",
      "classifiers.0.bias\n",
      "classifiers.1.weight\n",
      "classifiers.1.bias\n",
      "classifiers.2.weight\n",
      "classifiers.2.bias\n",
      "classifier.weight\n",
      "classifier.bias\n"
     ]
    }
   ],
   "source": [
    "for name, param in model.named_parameters():\n",
    "    print(name)"
   ]
  },
  {
   "cell_type": "markdown",
   "id": "musical-india",
   "metadata": {},
   "source": [
    "Save the Model Weights and then Train the Last Layer to ensure the grad information is retained"
   ]
  },
  {
   "cell_type": "code",
   "execution_count": 5,
   "id": "indoor-wednesday",
   "metadata": {},
   "outputs": [],
   "source": [
    "Conv1a = model.conv1a.weights\n",
    "Conv1b = model.conv1b.weights\n",
    "Conv1c = model.conv1c.weights\n",
    "Conv2a = model.conv2a.weights\n",
    "Conv2b = model.conv2b.weights\n",
    "Conv2c = model.conv2c.weights\n",
    "Conv3a = model.conv3a.weights\n",
    "Conv3b = model.conv3b.weights\n",
    "Conv3c = model.conv3c.weights\n",
    "Conv4a = model.conv4a.weights\n",
    "Conv4b = model.conv4b.weights\n",
    "Psi1 = model.attention1.psi.weight\n",
    "Psi2 = model.attention2.psi.weight\n",
    "Psi3 = model.attention3.psi.weight\n",
    "Theta1 = model.attention1.theta.weight\n",
    "Theta2 = model.attention2.theta.weight\n",
    "Theta3 = model.attention3.theta.weight\n",
    "Phi1 = model.attention1.phi.weight\n",
    "Phi2 = model.attention2.phi.weight\n",
    "Phi3 = model.attention3.phi.weight\n"
   ]
  },
  {
   "cell_type": "code",
   "execution_count": 6,
   "id": "upper-bunny",
   "metadata": {},
   "outputs": [],
   "source": [
    "\n",
    "net.conv1a.weights=Conv1a \n",
    "net.conv1b.weights=Conv1b \n",
    "net.conv1c.weights=Conv1c \n",
    "net.conv2a.weights=Conv2a \n",
    "net.conv2b.weights=Conv2b \n",
    "net.conv2c.weights=Conv2c \n",
    "net.conv3a.weights=Conv3a \n",
    "net.conv3b.weights=Conv3b \n",
    "net.conv3c.weights=Conv3c \n",
    "net.conv4a.weights=Conv4a \n",
    "net.conv4b.weights=Conv4b \n",
    "net.attention1.psi.weight=Psi1  \n",
    "net.attention2.psi.weight=Psi2  \n",
    "net.attention3.psi.weight=Psi3 \n",
    "net.attention1.theta.weight=Theta1 \n",
    "net.attention2.theta.weight=Theta2 \n",
    "net.attention3.theta.weight=Theta3 \n",
    "net.attention1.phi.weight=Phi1 \n",
    "net.attention2.phi.weight=Phi2 \n",
    "net.attention3.phi.weight=Phi3\n",
    "\n",
    "del(model)\n",
    "\n",
    "for name, param in net.named_parameters():\n",
    "    param.requires_grad=False\n",
    "    \n",
    "net.classifier.weight.requires_grad=True\n"
   ]
  },
  {
   "cell_type": "markdown",
   "id": "transsexual-devon",
   "metadata": {},
   "source": [
    "Test a Simplified Version of the Training Cycle"
   ]
  },
  {
   "cell_type": "code",
   "execution_count": 7,
   "id": "dutch-transformation",
   "metadata": {},
   "outputs": [],
   "source": [
    "def train(net, \n",
    "          device, \n",
    "          config,\n",
    "          Epoch,\n",
    "          train_loader,\n",
    "          optimizer,\n",
    "          root_out_directory_addition='',\n",
    "          scheduler = None,\n",
    "          save_validation_updates=True,\n",
    "          class_splitting_index=1,\n",
    "          loss_function = nn.CrossEntropyLoss(),\n",
    "          output_model=True,\n",
    "          early_stopping=True,\n",
    "          output_best_validation=False,\n",
    "          stop_after_epochs_without_update=2000\n",
    "         ):\n",
    "    \"\"\"Very Simple version of the training loop used in the train.py file to try and find approximate\n",
    "    gradients of the Classifier Layer\n",
    "    \"\"\"\n",
    "    # -----------------------------------------------------------------------------\n",
    "    # Initialise Seeds\n",
    "    torch.manual_seed(42)\n",
    "    np.random.seed(42)\n",
    "    # -----------------------------------------------------------------------------\n",
    "    # Training Loop\n",
    "    validation_loss_min = np.Inf\n",
    "    for epoch_count in range(Epoch):\n",
    "    \n",
    "        # Model Training\n",
    "        train_loss = 0.\n",
    "        validation_loss = 0.\n",
    "        confussion_matrix = np.zeros((2,2))\n",
    "        net.train() #Set network to train mode.\n",
    "        if 'binary_labels' in locals():\n",
    "            del binary_labels\n",
    "        if 'outputs' in locals():\n",
    "            del outputs\n",
    "\n",
    "        # Loop across data augmentations\n",
    "        for batch_idx , (data, labels) in enumerate(train_loader): #Iterates through each batch.\n",
    "            data = data.to(device)\n",
    "            labels = labels.to(device)\n",
    "\n",
    "            \n",
    "            # Create binary labels to remove morphological subclassifications (for MiraBest) ### IS THIS STILL NECESSARY?\n",
    "            binary_labels = np.zeros(labels.size(), dtype=int)\n",
    "            binary_labels = np.where(labels.cpu().numpy()<class_splitting_index, binary_labels, binary_labels+1)\n",
    "            binary_labels = torch.from_numpy(binary_labels).to(device)\n",
    "            \n",
    "                # Loss & backpropagation\n",
    "            pred = net.forward(data)\n",
    "            optimizer.zero_grad()\n",
    "            loss = loss_function(pred,binary_labels)\n",
    "            loss.backward(retain_graph=True)\n",
    "            if scheduler == None:\n",
    "                optimizer.step()\n",
    "            train_loss += (loss.item()*data.size(0))\n",
    "            if scheduler != None:\n",
    "                scheduler.step(train_loss)\n",
    "        print(train_loss/(len(train_loader.dataset)))"
   ]
  },
  {
   "cell_type": "code",
   "execution_count": 8,
   "id": "confused-quantity",
   "metadata": {},
   "outputs": [],
   "source": [
    "optimizer = optim.Adam(filter(lambda p: p.requires_grad, net.parameters()), lr=1e-5)"
   ]
  },
  {
   "cell_type": "code",
   "execution_count": 9,
   "id": "polish-buying",
   "metadata": {},
   "outputs": [
    {
     "name": "stderr",
     "output_type": "stream",
     "text": [
      "/raid/scratch/mattyb/venv/lib/python3.8/site-packages/torch/nn/functional.py:3451: UserWarning: Default upsampling behavior when mode=bilinear is changed to align_corners=False since 0.4.0. Please specify align_corners=True if the old behavior is desired. See the documentation of nn.Upsample for details.\n",
      "  warnings.warn(\n"
     ]
    },
    {
     "name": "stdout",
     "output_type": "stream",
     "text": [
      "0.5352304753135232\n",
      "0.5429462685304529\n",
      "0.5889544557122623\n",
      "0.535029460402096\n",
      "0.5095707230708179\n",
      "0.5586375874631545\n",
      "0.5629613294320948\n",
      "0.5248154051163617\n",
      "0.5431032882017248\n",
      "0.5163005870931289\n"
     ]
    }
   ],
   "source": [
    "train(net, device, config, 10, train_loader, optimizer)"
   ]
  },
  {
   "cell_type": "code",
   "execution_count": 11,
   "id": "italian-navigator",
   "metadata": {},
   "outputs": [
    {
     "name": "stdout",
     "output_type": "stream",
     "text": [
      "tensor([[-1.8417e-05,  5.5916e-14, -5.1928e-07,  0.0000e+00, -2.1291e-04,\n",
      "          0.0000e+00],\n",
      "        [ 1.8433e-05,  0.0000e+00,  5.1998e-07,  0.0000e+00,  2.1310e-04,\n",
      "          0.0000e+00]], device='cuda:0')\n"
     ]
    }
   ],
   "source": [
    "print(net.classifier.weight.grad)"
   ]
  },
  {
   "cell_type": "markdown",
   "id": "combined-separate",
   "metadata": {},
   "source": [
    "Now Fisher and Jacobian Imports"
   ]
  },
  {
   "cell_type": "code",
   "execution_count": 12,
   "id": "meaningful-retrieval",
   "metadata": {},
   "outputs": [],
   "source": [
    "def jacobian_torch(f, w, create_graph=False):   \n",
    "\n",
    "    \"\"\"\n",
    "    function to find the jacobian of f with respect to x parameters of model\n",
    "\n",
    "    output has shape (len(f), len(x))\n",
    "    \"\"\"\n",
    "\n",
    "    jac = []                                                                                          \n",
    "    grad_f = torch.zeros_like(f)\n",
    "\n",
    "    for i in range(len(f)):                                                                      \n",
    "        grad_f[i] = 1.\n",
    "        grad_f_x = torch.autograd.grad(f, w, grad_f, retain_graph=True, create_graph=create_graph, allow_unused=True)\n",
    "        J = torch.cat(grad_f_x).view(-1)\n",
    "        jac.append(J)\n",
    "        grad_f[i] = 0.\n",
    "                                                  \n",
    "    return torch.stack(jac).reshape(f.shape + J.shape)       \n",
    "\n",
    "def jacobian(y, x, create_graph=False):                                                               \n",
    "    jac = []                                                                                          \n",
    "    flat_y = y.reshape(-1)                                                                            \n",
    "    grad_y = torch.zeros_like(flat_y)                                                                 \n",
    "    for i in range(len(flat_y)):                                                                      \n",
    "        grad_y[i] = 1.                                                                                \n",
    "        grad_x, = torch.autograd.grad(flat_y, x, grad_y, retain_graph=True, create_graph=create_graph, allow_unused=True)\n",
    "        jac.append(grad_x.reshape(x.shape))                                                           \n",
    "        grad_y[i] = 0.                                                                                \n",
    "    return torch.stack(jac).reshape(y.shape + x.shape)\n",
    "\n",
    "def matrix_diag(diagonal):\n",
    "    N = diagonal.shape[-1]\n",
    "    shape = diagonal.shape[:-1] + (N, N)\n",
    "    device, dtype = diagonal.device, diagonal.dtype\n",
    "    result = torch.zeros(shape, dtype=dtype, device=device)\n",
    "    indices = torch.arange(result.numel(), device=device).reshape(shape)\n",
    "    indices = indices.diagonal(dim1=-2, dim2=-1)\n",
    "    result.view(-1)[indices] = diagonal\n",
    "    return result"
   ]
  },
  {
   "cell_type": "code",
   "execution_count": 43,
   "id": "documentary-proportion",
   "metadata": {},
   "outputs": [
    {
     "name": "stderr",
     "output_type": "stream",
     "text": [
      "100%|██████████| 100/100 [01:56<00:00,  1.16s/it]\n"
     ]
    }
   ],
   "source": [
    "from tqdm import tqdm\n",
    "Number_of_FisherIts = 100\n",
    "Rank = []\n",
    "EV = []\n",
    "FR = []\n",
    "n_weight = 12\n",
    "realisations_torch = torch.zeros((Number_of_FisherIts,n_weight,n_weight)).to(device) #All fishers\n",
    "for i in tqdm(range(Number_of_FisherIts)):\n",
    "    \n",
    "    w = net.classifier.weight\n",
    "    flat_w = w.view(-1).cpu()\n",
    "\n",
    "    fisher = torch.zeros((n_weight,n_weight)).to('cuda')\n",
    "    for x_n, y_n in train_loader:\n",
    "        x_n, y_n = x_n.to('cuda'), y_n.to('cuda')\n",
    "\n",
    "        f_n = net(x_n)\n",
    "        for row in f_n:\n",
    "            m = nn.Softmax(dim=0)\n",
    "            pi_n = m(row)\n",
    "            diag_pi_n = torch.diag(pi_n.squeeze(0)).to('cuda')\n",
    "            pi_n_pi_n_T= torch.from_numpy(np.outer(pi_n.cpu().detach().numpy(),pi_n.cpu().detach().numpy())).to('cuda')\n",
    "            J_f = jacobian_torch((torch.squeeze(row,0)),w)\n",
    "            J_f_T = J_f.permute(1,0)\n",
    "            K2 = diag_pi_n-pi_n_pi_n_T\n",
    "            K3 = K2.cuda()\n",
    "            fisher += torch.matmul((torch.matmul(J_f_T,K3)),J_f)\n",
    "  \n",
    "    with torch.no_grad():\n",
    "        rank = torch.matrix_rank(fisher).item()\n",
    "        Rank.append(rank)\n",
    "        realisations_torch[i] = fisher.cpu()\n",
    "        Fw = np.matmul(fisher.cpu().numpy(),flat_w)\n",
    "        wFw = np.dot(flat_w,Fw)\n",
    "        FR.append(wFw)"
   ]
  },
  {
   "cell_type": "code",
   "execution_count": 44,
   "id": "sporting-substance",
   "metadata": {},
   "outputs": [
    {
     "name": "stdout",
     "output_type": "stream",
     "text": [
      "4.53\n"
     ]
    },
    {
     "data": {
      "image/png": "[encoded data removed]",
      "text/plain": [
       "<Figure size 432x288 with 1 Axes>"
      ]
     },
     "metadata": {
      "needs_background": "light"
     },
     "output_type": "display_data"
    }
   ],
   "source": [
    "plt.subplot(111)\n",
    "nbins = 10\n",
    "plt.hist(Rank, bins=nbins, rwidth=0.8, color='g')\n",
    "plt.ylabel(\"Total Counts\")\n",
    "plt.xlabel(\"Matrix Rank\")\n",
    "plt.title(\"Fisher Matrix Rank Distribution\")\n",
    "print(np.mean(Rank))\n",
    "plt.savefig('VanillaRank.png')\n",
    "plt.show()"
   ]
  },
  {
   "cell_type": "code",
   "execution_count": null,
   "id": "specialized-animal",
   "metadata": {},
   "outputs": [],
   "source": []
  }
 ],
 "metadata": {
  "kernelspec": {
   "display_name": "Python 3",
   "language": "python",
   "name": "python3"
  },
  "language_info": {
   "codemirror_mode": {
    "name": "ipython",
    "version": 3
   },
   "file_extension": ".py",
   "mimetype": "text/x-python",
   "name": "python",
   "nbconvert_exporter": "python",
   "pygments_lexer": "ipython3",
   "version": "3.8.5"
  }
 },
 "nbformat": 4,
 "nbformat_minor": 5
}
