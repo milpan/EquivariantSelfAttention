{
 "cells": [
  {
   "cell_type": "markdown",
   "id": "elementary-lawyer",
   "metadata": {},
   "source": [
    "# Fisher Analysis of the Network"
   ]
  },
  {
   "cell_type": "markdown",
   "id": "eastern-slide",
   "metadata": {},
   "source": [
    "This notebook demonstrates using the Fisher Information to calculate generalisability and trainability metrics"
   ]
  },
  {
   "cell_type": "code",
   "execution_count": 1,
   "id": "advance-huntington",
   "metadata": {
    "tags": []
   },
   "outputs": [],
   "source": [
    "import os\n",
    "import sys\n",
    "\n",
    "import torch\n",
    "import torch.nn as nn\n",
    "import torch.nn.functional as F\n",
    "import torch.optim as optim\n",
    "from torchvision import transforms\n",
    "import PIL\n",
    "from torchsummary import summary\n",
    "\n",
    "import pandas as pd\n",
    "import numpy as np\n",
    "import matplotlib.pyplot as plt\n",
    "import configparser as ConfigParser\n",
    "\n",
    "from utils import *\n",
    "# Ipmport various network architectures\n",
    "from networks import AGRadGalNet, VanillaLeNet, testNet, DNSteerableLeNet, DNSteerableAGRadGalNet\n",
    "# Import various data classes\n",
    "from datasets import FRDEEPF\n",
    "from datasets import MiraBest_full, MBFRConfident, MBFRUncertain, MBHybrid\n",
    "from datasets import MingoLoTSS, MLFR, MLFRTest\n",
    "from scipy.special import logsumexp\n",
    "import torch.nn.functional as F"
   ]
  },
  {
   "cell_type": "markdown",
   "id": "duplicate-scope",
   "metadata": {},
   "source": [
    "Load in the dataset and the relevant configuration"
   ]
  },
  {
   "cell_type": "code",
   "execution_count": 2,
   "id": "decimal-attachment",
   "metadata": {},
   "outputs": [
    {
     "name": "stderr",
     "output_type": "stream",
     "text": [
      "/raid/scratch/mattyb/venv/lib/python3.8/site-packages/torchvision/transforms/transforms.py:1314: UserWarning: Argument resample is deprecated and will be removed since v0.10.0. Please, use interpolation instead\n",
      "  warnings.warn(\n"
     ]
    },
    {
     "name": "stdout",
     "output_type": "stream",
     "text": [
      "Files already downloaded and verified\n"
     ]
    }
   ],
   "source": [
    "PATH = \"configs/\"\n",
    "cfg_base = \"C4_attention_mirabest.cfg\"\n",
    "config = ConfigParser.ConfigParser(allow_no_value=True)\n",
    "config.read(PATH + cfg_base)\n",
    "device = \"cuda\"\n",
    "\n",
    "train_loader, valid_loader  = utils.data.load(\n",
    "    config, \n",
    "    train=True, \n",
    "    augmentation='config', \n",
    "    data_loader=True\n",
    ")\n",
    "\n",
    "transform = transforms.Compose(\n",
    "    [transforms.ToTensor(),\n",
    "     transforms.Normalize([0.5],[0.5])])"
   ]
  },
  {
   "cell_type": "code",
   "execution_count": 3,
   "id": "defined-pollution",
   "metadata": {},
   "outputs": [
    {
     "name": "stdout",
     "output_type": "stream",
     "text": [
      "Loading in DNSteerableAGRadGalNet\n"
     ]
    },
    {
     "name": "stderr",
     "output_type": "stream",
     "text": [
      "/raid/scratch/mattyb/venv/lib/python3.8/site-packages/e2cnn/nn/modules/r2_conv/basisexpansion_singleblock.py:61: UserWarning: indexing with dtype torch.uint8 is now deprecated, please use a dtype torch.bool instead. (Triggered internally at  /pytorch/aten/src/ATen/native/IndexingUtils.h:30.)\n",
      "  sampled_basis = sampled_basis[mask, ...]\n"
     ]
    },
    {
     "name": "stdout",
     "output_type": "stream",
     "text": [
      "cuda\n"
     ]
    }
   ],
   "source": [
    "print(f\"Loading in {config['model']['base']}\")\n",
    "net = locals()[config['model']['base']](**config['model']).to(device)\n",
    "\n",
    "quiet = config.getboolean('DEFAULT', 'quiet')\n",
    "early_stopping = config.getboolean('training', 'early_stopping')\n",
    "\n",
    "# Read / Create Folder for Data to be Saved\n",
    "root = config['data']['directory']\n",
    "os.makedirs(root, exist_ok=True)\n",
    "\n",
    "if not quiet:\n",
    "    if 'DN' not in config['model']['base']:\n",
    "        summary(net, (1, 150, 150))\n",
    "    print(device)\n",
    "    if device == torch.device('cuda'):\n",
    "        summary(net, (1,150,150))\n",
    "        print(torch.cuda.get_device_name(device=device))"
   ]
  },
  {
   "cell_type": "markdown",
   "id": "unlimited-cholesterol",
   "metadata": {},
   "source": [
    "Attempt to load in the best saved model"
   ]
  },
  {
   "cell_type": "code",
   "execution_count": 4,
   "id": "pretty-preliminary",
   "metadata": {},
   "outputs": [],
   "source": [
    "path_supliment = config['data']['augment']+'/'\n",
    "model = utils.utils.load_model(config, load_model='best', device=device, path_supliment=path_supliment)"
   ]
  },
  {
   "cell_type": "markdown",
   "id": "twenty-standing",
   "metadata": {},
   "source": [
    "Save the Model Weights and then Train the Last Layer to ensure the grad information is retained"
   ]
  },
  {
   "cell_type": "code",
   "execution_count": 5,
   "id": "blocked-machinery",
   "metadata": {},
   "outputs": [],
   "source": [
    "utils.fisher.WeightTransfer(model, net)"
   ]
  },
  {
   "cell_type": "code",
   "execution_count": 6,
   "id": "sweet-general",
   "metadata": {},
   "outputs": [],
   "source": [
    "optimizer = optim.Adam(filter(lambda p: p.requires_grad, net.parameters()), lr=0.0001)"
   ]
  },
  {
   "cell_type": "markdown",
   "id": "infrared-spelling",
   "metadata": {},
   "source": [
    "Function to obtain the Jacobian using the Torch AutoGrad"
   ]
  },
  {
   "cell_type": "code",
   "execution_count": 7,
   "id": "focused-couple",
   "metadata": {},
   "outputs": [
    {
     "name": "stdout",
     "output_type": "stream",
     "text": [
      "Calculating 100 of the Fisher...\n"
     ]
    },
    {
     "name": "stderr",
     "output_type": "stream",
     "text": [
      "  0%|          | 0/100 [00:00<?, ?it/s]/raid/scratch/mattyb/venv/lib/python3.8/site-packages/torch/nn/functional.py:3451: UserWarning: Default upsampling behavior when mode=bilinear is changed to align_corners=False since 0.4.0. Please specify align_corners=True if the old behavior is desired. See the documentation of nn.Upsample for details.\n",
      "  warnings.warn(\n",
      " 25%|██▌       | 25/100 [00:44<02:14,  1.80s/it]"
     ]
    },
    {
     "name": "stdout",
     "output_type": "stream",
     "text": [
      "Discarding a Rank Calculation\n",
      "Discarding a Rank Calculation\n"
     ]
    },
    {
     "name": "stderr",
     "output_type": "stream",
     "text": [
      " 49%|████▉     | 49/100 [01:15<00:56,  1.11s/it]"
     ]
    },
    {
     "name": "stdout",
     "output_type": "stream",
     "text": [
      "Discarding a Rank Calculation\n"
     ]
    },
    {
     "name": "stderr",
     "output_type": "stream",
     "text": [
      " 92%|█████████▏| 92/100 [02:08<00:13,  1.71s/it]"
     ]
    },
    {
     "name": "stdout",
     "output_type": "stream",
     "text": [
      "Discarding a Rank Calculation\n"
     ]
    },
    {
     "name": "stderr",
     "output_type": "stream",
     "text": [
      "100%|██████████| 100/100 [02:22<00:00,  1.43s/it]\n"
     ]
    }
   ],
   "source": [
    "Fishers, Rank, FR= CalcFIM(net, train_loader, 100)"
   ]
  },
  {
   "cell_type": "code",
   "execution_count": 10,
   "id": "postal-basic",
   "metadata": {},
   "outputs": [
    {
     "name": "stdout",
     "output_type": "stream",
     "text": [
      "[[ 1.1503  0.6375  0.4236  0.1035  0.56    0.1531 -1.1503 -0.6375 -0.4236 -0.1035 -0.56   -0.1531]\n",
      " [ 0.6375  1.361   0.2623  0.0307  0.2231  0.2743 -0.6375 -1.361  -0.2623 -0.0307 -0.2231 -0.2743]\n",
      " [ 0.4236  0.2623  0.5631  0.0159  0.5069  0.186  -0.4236 -0.2623 -0.5631 -0.0159 -0.5069 -0.186 ]\n",
      " [ 0.1035  0.0307  0.0159  0.081   0.0125  0.0234 -0.1035 -0.0307 -0.0159 -0.081  -0.0125 -0.0234]\n",
      " [ 0.56    0.2231  0.5069  0.0125  2.4322  0.2995 -0.56   -0.2231 -0.5069 -0.0125 -2.4322 -0.2995]\n",
      " [ 0.1531  0.2743  0.186   0.0234  0.2995  0.4123 -0.1531 -0.2743 -0.186  -0.0234 -0.2995 -0.4123]\n",
      " [-1.1503 -0.6375 -0.4236 -0.1035 -0.56   -0.1531  1.1503  0.6375  0.4236  0.1035  0.56    0.1531]\n",
      " [-0.6375 -1.361  -0.2623 -0.0307 -0.2231 -0.2743  0.6375  1.361   0.2623  0.0307  0.2231  0.2743]\n",
      " [-0.4236 -0.2623 -0.5631 -0.0159 -0.5069 -0.186   0.4236  0.2623  0.5631  0.0159  0.5069  0.186 ]\n",
      " [-0.1035 -0.0307 -0.0159 -0.081  -0.0125 -0.0234  0.1035  0.0307  0.0159  0.081   0.0125  0.0234]\n",
      " [-0.56   -0.2231 -0.5069 -0.0125 -2.4322 -0.2995  0.56    0.2231  0.5069  0.0125  2.4322  0.2995]\n",
      " [-0.1531 -0.2743 -0.186  -0.0234 -0.2995 -0.4123  0.1531  0.2743  0.186   0.0234  0.2995  0.4123]]\n"
     ]
    }
   ],
   "source": [
    "\n",
    "FinalAverageFisher = normalise(Fishers.detach().numpy())\n",
    "print(FinalAverageFisher)"
   ]
  },
  {
   "cell_type": "markdown",
   "id": "toxic-album",
   "metadata": {},
   "source": [
    "Calculating values of the Fisher Information Matrix manually (not using the imports)"
   ]
  },
  {
   "cell_type": "markdown",
   "id": "rental-salmon",
   "metadata": {},
   "source": [
    "Example Plots of the Fisher Information Matrix"
   ]
  },
  {
   "cell_type": "code",
   "execution_count": 11,
   "id": "pacific-essay",
   "metadata": {},
   "outputs": [
    {
     "data": {
      "image/png": "[encoded data removed]",
      "text/plain": [
       "<Figure size 432x288 with 4 Axes>"
      ]
     },
     "metadata": {
      "needs_background": "light"
     },
     "output_type": "display_data"
    },
    {
     "data": {
      "text/plain": [
       "<matplotlib.image.AxesImage at 0x7fa148c29d60>"
      ]
     },
     "execution_count": 11,
     "metadata": {},
     "output_type": "execute_result"
    },
    {
     "data": {
      "image/png": "[encoded data removed]",
      "text/plain": [
       "<Figure size 432x288 with 1 Axes>"
      ]
     },
     "metadata": {
      "needs_background": "light"
     },
     "output_type": "display_data"
    }
   ],
   "source": [
    "f, axarr = plt.subplots(2,2)\n",
    "\n",
    "axarr[0,0].imshow(Fishers[0].cpu())\n",
    "axarr[0,1].imshow(Fishers[1].cpu())\n",
    "axarr[1,0].imshow(Fishers[2].cpu())\n",
    "axarr[1,1].imshow(Fishers[3].cpu())\n",
    "plt.show()\n",
    "\n",
    "plt.imshow(FinalAverageFisher)"
   ]
  },
  {
   "cell_type": "markdown",
   "id": "enormous-fundamentals",
   "metadata": {},
   "source": [
    "Eigenvalue Distribution of the Fisher Information Matrix"
   ]
  },
  {
   "cell_type": "code",
   "execution_count": 12,
   "id": "capital-mistress",
   "metadata": {},
   "outputs": [
    {
     "data": {
      "image/png": "[encoded data removed]",
      "text/plain": [
       "<Figure size 432x288 with 1 Axes>"
      ]
     },
     "metadata": {
      "needs_background": "light"
     },
     "output_type": "display_data"
    }
   ],
   "source": [
    "EV =[]\n",
    "#normalise fisher\n",
    "\n",
    "#Calculate Positive Eigenvalues\n",
    "for i in Fishers:\n",
    "    EV = np.append(EV,torch.eig(i, eigenvectors=False,  out=None)[0][:,0].detach().numpy())\n",
    "#Plot Them\n",
    "plt.subplot(111)\n",
    "nbins = 10\n",
    "plt.hist(EV, bins=nbins, rwidth=0.8, color='r')\n",
    "plt.ylabel(\"Total Counts\")\n",
    "plt.xlabel(\"Eigenvalue\")\n",
    "plt.title(\"Fisher Matrix Eigenspectrum\")\n",
    "plt.show()"
   ]
  },
  {
   "cell_type": "markdown",
   "id": "acute-moscow",
   "metadata": {},
   "source": [
    "Rank Distribution of the Obtained Realisations of the Fisher Information Matrix"
   ]
  },
  {
   "cell_type": "code",
   "execution_count": 13,
   "id": "representative-surge",
   "metadata": {},
   "outputs": [
    {
     "name": "stdout",
     "output_type": "stream",
     "text": [
      "The Mean Rank obtained is 2.2016509433962264 \n",
      "\n"
     ]
    },
    {
     "data": {
      "image/png": "[encoded data removed]",
      "text/plain": [
       "<Figure size 432x288 with 1 Axes>"
      ]
     },
     "metadata": {
      "needs_background": "light"
     },
     "output_type": "display_data"
    }
   ],
   "source": [
    "plt.subplot(111)\n",
    "nbins = 8\n",
    "plt.hist(Rank, bins=nbins, rwidth=0.8, color='g')\n",
    "plt.ylabel(\"Total Counts\")\n",
    "plt.xlabel(\"Matrix Rank\")\n",
    "plt.title(\"Fisher Matrix Rank Distribution\")\n",
    "MeanRank = np.mean(Rank)\n",
    "print(f\"The Mean Rank obtained is {MeanRank} \\n\")\n",
    "plt.savefig('VanillaRank.png')\n",
    "plt.show()"
   ]
  },
  {
   "cell_type": "markdown",
   "id": "major-chassis",
   "metadata": {},
   "source": [
    "Fisher Rao Norm Distribution"
   ]
  },
  {
   "cell_type": "code",
   "execution_count": 14,
   "id": "liquid-connection",
   "metadata": {},
   "outputs": [
    {
     "data": {
      "image/png": "[encoded data removed]",
      "text/plain": [
       "<Figure size 432x288 with 1 Axes>"
      ]
     },
     "metadata": {
      "needs_background": "light"
     },
     "output_type": "display_data"
    }
   ],
   "source": [
    "plt.subplot(111)\n",
    "nbins = 10\n",
    "FR2 = [np.abs(e) for e in FR]\n",
    "plt.hist(FR2, bins=nbins, rwidth = 0.8 ,color='b')\n",
    "plt.ylabel(\"Total Counts\")\n",
    "plt.xlabel(\"Fisher Rao Norm\")\n",
    "plt.title(\"Fisher Rao Norm Distribution\")\n",
    "plt.savefig('VanillaRao.png')\n",
    "plt.show()"
   ]
  },
  {
   "cell_type": "markdown",
   "id": "formal-iraqi",
   "metadata": {},
   "source": [
    "Testing the Effective Dimension"
   ]
  },
  {
   "cell_type": "code",
   "execution_count": 16,
   "id": "flexible-chocolate",
   "metadata": {},
   "outputs": [
    {
     "name": "stderr",
     "output_type": "stream",
     "text": [
      "100%|██████████| 99000/99000 [00:08<00:00, 11741.08it/s]\n",
      "100%|██████████| 99000/99000 [00:08<00:00, 11965.72it/s]\n"
     ]
    },
    {
     "data": {
      "text/plain": [
       "[<matplotlib.lines.Line2D at 0x7fa148cfb220>]"
      ]
     },
     "execution_count": 16,
     "metadata": {},
     "output_type": "execute_result"
    },
    {
     "data": {
      "image/png": "[encoded data removed]",
      "text/plain": [
       "<Figure size 432x288 with 1 Axes>"
      ]
     },
     "metadata": {
      "needs_background": "light"
     },
     "output_type": "display_data"
    }
   ],
   "source": [
    "ed = []\n",
    "n_samples = [i for i in range(1000,100000)]\n",
    "\n",
    "effective_dimension(net,FinalAverageFisher, 2, n_samples, 12)\n",
    "ed.append(effective_dimension(net,FinalAverageFisher, 2, n_samples, 12))\n",
    "plt.plot(n_samples,np.array(ed[0])/12)"
   ]
  },
  {
   "cell_type": "code",
   "execution_count": null,
   "id": "narrative-perception",
   "metadata": {},
   "outputs": [],
   "source": []
  },
  {
   "cell_type": "code",
   "execution_count": 38,
   "id": "defensive-learning",
   "metadata": {},
   "outputs": [],
   "source": [
    "\n",
    "from tqdm import tqdm\n",
    "def effective_dimension(model, f_hat, num_thetas, n, outputs):\n",
    "    '''\n",
    "    model -> pytorch compatible model\n",
    "    f_hat -> normalised array of fisher matrix\n",
    "    n -> Number of samples for the computation (len trainloader?) in list\n",
    "    outputs -> Number of classes\n",
    "    '''\n",
    "    effective_dim = []\n",
    "\n",
    "    for ns in tqdm(n):\n",
    "        Fhat = f_hat * ns / (2 * np.pi * np.log(ns))\n",
    "        one_plus_F = np.eye(outputs) + Fhat\n",
    "        det = np.linalg.slogdet(one_plus_F)[1]  # log det because of overflow\n",
    "        r = det / 2  # divide by 2 because of sqrt\n",
    "        effective_dim.append(2 * (logsumexp(r) - np.log(num_thetas)) / np.log(ns / (2 * np.pi * np.log(ns))))\n",
    "\n",
    "    return effective_dim"
   ]
  },
  {
   "cell_type": "code",
   "execution_count": null,
   "id": "verbal-accused",
   "metadata": {},
   "outputs": [],
   "source": []
  },
  {
   "cell_type": "code",
   "execution_count": null,
   "id": "assigned-classic",
   "metadata": {},
   "outputs": [],
   "source": []
  }
 ],
 "metadata": {
  "kernelspec": {
   "display_name": "Python 3",
   "language": "python",
   "name": "python3"
  },
  "language_info": {
   "codemirror_mode": {
    "name": "ipython",
    "version": 3
   },
   "file_extension": ".py",
   "mimetype": "text/x-python",
   "name": "python",
   "nbconvert_exporter": "python",
   "pygments_lexer": "ipython3",
   "version": "3.8.5"
  }
 },
 "nbformat": 4,
 "nbformat_minor": 5
}
