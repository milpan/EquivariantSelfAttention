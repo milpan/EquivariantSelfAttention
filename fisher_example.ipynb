{
 "cells": [
  {
   "cell_type": "markdown",
   "id": "professional-bradford",
   "metadata": {},
   "source": [
    "# Fisher Analysis of the Network"
   ]
  },
  {
   "cell_type": "markdown",
   "id": "selective-amsterdam",
   "metadata": {},
   "source": [
    "This notebook demonstrates using the Fisher Information to calculate generalisability and trainability metrics"
   ]
  },
  {
   "cell_type": "code",
   "execution_count": 1,
   "id": "reserved-honolulu",
   "metadata": {
    "tags": []
   },
   "outputs": [],
   "source": [
    "import os\n",
    "import sys\n",
    "\n",
    "import torch\n",
    "import torch.nn as nn\n",
    "import torch.nn.functional as F\n",
    "import torch.optim as optim\n",
    "from torchvision import transforms\n",
    "import PIL\n",
    "from torchsummary import summary\n",
    "\n",
    "import pandas as pd\n",
    "import numpy as np\n",
    "import matplotlib.pyplot as plt\n",
    "import configparser as ConfigParser\n",
    "import pickle\n",
    "\n",
    "from utils import *\n",
    "# Ipmport various network architectures\n",
    "from networks import AGRadGalNet, VanillaLeNet, testNet, DNSteerableLeNet, DNSteerableAGRadGalNet\n",
    "# Import various data classes\n",
    "from datasets import FRDEEPF\n",
    "from datasets import MiraBest_full, MBFRConfident, MBFRUncertain, MBHybrid\n",
    "from datasets import MingoLoTSS, MLFR, MLFRTest\n",
    "from scipy.special import logsumexp\n",
    "import torch.nn.functional as F"
   ]
  },
  {
   "cell_type": "markdown",
   "id": "dimensional-islam",
   "metadata": {},
   "source": [
    "Load in the dataset and the relevant configuration"
   ]
  },
  {
   "cell_type": "code",
   "execution_count": 2,
   "id": "southern-investigator",
   "metadata": {},
   "outputs": [
    {
     "name": "stderr",
     "output_type": "stream",
     "text": [
      "/raid/scratch/mattyb/venv/lib/python3.8/site-packages/torchvision/transforms/transforms.py:1314: UserWarning: Argument resample is deprecated and will be removed since v0.10.0. Please, use interpolation instead\n",
      "  warnings.warn(\n"
     ]
    },
    {
     "name": "stdout",
     "output_type": "stream",
     "text": [
      "Files already downloaded and verified\n",
      "models/e2attention/mirabest/fisher/C4\n"
     ]
    }
   ],
   "source": [
    "PATH = \"configs/\"\n",
    "cfg_base = \"C4_attention_mirabest.cfg\"\n",
    "config = ConfigParser.ConfigParser(allow_no_value=True)\n",
    "config.read(PATH + cfg_base)\n",
    "device = \"cuda\"\n",
    "\n",
    "train_loader, valid_loader  = utils.data.load(\n",
    "    config, \n",
    "    train=True, \n",
    "    augmentation='config', \n",
    "    data_loader=True\n",
    ")\n",
    "workingdir = config['output']['directory']\n",
    "print(workingdir)\n",
    "transform = transforms.Compose(\n",
    "    [transforms.ToTensor(),\n",
    "     transforms.Normalize([0.5],[0.5])])"
   ]
  },
  {
   "cell_type": "code",
   "execution_count": 3,
   "id": "satisfied-deposit",
   "metadata": {},
   "outputs": [
    {
     "name": "stdout",
     "output_type": "stream",
     "text": [
      "Loading in DNSteerableAGRadGalNet\n"
     ]
    },
    {
     "name": "stderr",
     "output_type": "stream",
     "text": [
      "/raid/scratch/mattyb/venv/lib/python3.8/site-packages/e2cnn/nn/modules/r2_conv/basisexpansion_singleblock.py:61: UserWarning: indexing with dtype torch.uint8 is now deprecated, please use a dtype torch.bool instead. (Triggered internally at  /pytorch/aten/src/ATen/native/IndexingUtils.h:30.)\n",
      "  sampled_basis = sampled_basis[mask, ...]\n"
     ]
    },
    {
     "name": "stdout",
     "output_type": "stream",
     "text": [
      "cuda\n"
     ]
    }
   ],
   "source": [
    "print(f\"Loading in {config['model']['base']}\")\n",
    "net = locals()[config['model']['base']](**config['model']).to(device)\n",
    "\n",
    "quiet = config.getboolean('DEFAULT', 'quiet')\n",
    "early_stopping = config.getboolean('training', 'early_stopping')\n",
    "\n",
    "# Read / Create Folder for Data to be Saved\n",
    "root = config['data']['directory']\n",
    "os.makedirs(root, exist_ok=True)\n",
    "\n",
    "if not quiet:\n",
    "    if 'DN' not in config['model']['base']:\n",
    "        summary(net, (1, 150, 150))\n",
    "    print(device)\n",
    "    if device == torch.device('cuda'):\n",
    "        summary(net, (1,150,150))\n",
    "        print(torch.cuda.get_device_name(device=device))"
   ]
  },
  {
   "cell_type": "markdown",
   "id": "religious-ottawa",
   "metadata": {},
   "source": [
    "Attempt to load in the best saved model"
   ]
  },
  {
   "cell_type": "code",
   "execution_count": 4,
   "id": "increased-smell",
   "metadata": {},
   "outputs": [],
   "source": [
    "path_supliment = config['data']['augment']+'/'\n",
    "model = utils.utils.load_model(config, load_model='best', device=device, path_supliment=path_supliment)"
   ]
  },
  {
   "cell_type": "markdown",
   "id": "meaningful-block",
   "metadata": {},
   "source": [
    "Save the Model Weights and then Train the Last Layer to ensure the grad information is retained"
   ]
  },
  {
   "cell_type": "code",
   "execution_count": 5,
   "id": "constitutional-process",
   "metadata": {},
   "outputs": [],
   "source": [
    "utils.fisher.WeightTransfer(model, net)"
   ]
  },
  {
   "cell_type": "code",
   "execution_count": 6,
   "id": "champion-coast",
   "metadata": {},
   "outputs": [],
   "source": [
    "optimizer = optim.Adam(filter(lambda p: p.requires_grad, net.parameters()), lr=0.0001)"
   ]
  },
  {
   "cell_type": "markdown",
   "id": "connected-warning",
   "metadata": {},
   "source": [
    "Function to obtain the Jacobian using the Torch AutoGrad"
   ]
  },
  {
   "cell_type": "code",
   "execution_count": 134,
   "id": "elder-montgomery",
   "metadata": {},
   "outputs": [
    {
     "name": "stdout",
     "output_type": "stream",
     "text": [
      "Calculating 1000 of the Fisher...\n"
     ]
    },
    {
     "name": "stderr",
     "output_type": "stream",
     "text": [
      "  0%|          | 0/1000 [00:00<?, ?it/s]/raid/scratch/mattyb/venv/lib/python3.8/site-packages/torch/nn/functional.py:3451: UserWarning: Default upsampling behavior when mode=bilinear is changed to align_corners=False since 0.4.0. Please specify align_corners=True if the old behavior is desired. See the documentation of nn.Upsample for details.\n",
      "  warnings.warn(\n",
      "100%|██████████| 1000/1000 [19:14<00:00,  1.15s/it]\n"
     ]
    }
   ],
   "source": [
    "Fishers, Rank, FR= CalcFIM(net, train_loader, 1000)"
   ]
  },
  {
   "cell_type": "code",
   "execution_count": 125,
   "id": "becoming-baghdad",
   "metadata": {},
   "outputs": [],
   "source": [
    "def jacobian(f, w, create_graph=False):   \n",
    "\n",
    "    \"\"\"\n",
    "    function to find the jacobian of f with respect to x parameters of model\n",
    "\n",
    "    output has shape (len(f), len(x))\n",
    "    \"\"\"\n",
    "\n",
    "    jac = []\n",
    "    output = f\n",
    "    grad_f = torch.zeros_like(output)\n",
    "    \n",
    "    for i in range(len(f)):                                                                      \n",
    "        grad_f[i] = 1.\n",
    "        grad_f_x = torch.autograd.grad(f, w, grad_f, retain_graph=True, create_graph=create_graph, allow_unused=True)\n",
    "        J = torch.cat(grad_f_x).view(-1)\n",
    "        jac.append(J * torch.sqrt(output[i]))#\n",
    "        grad_f[i] = 0.\n",
    "                                                  \n",
    "    return torch.stack(jac).reshape(f.shape + J.shape)\n",
    "\n",
    "\n",
    "def newJacob(net,output,w):\n",
    "    grad = []\n",
    "    logoutput = output\n",
    "    for i in range(len(output)):\n",
    "        logoutput[i].backward(retain_graph=True)\n",
    "        grads = []\n",
    "        for param in net.classifier.weight:\n",
    "            print(param.grad)\n",
    "            grads.append(param.grad)\n",
    "        gr = torch.cat(grads)\n",
    "        grad.append(gr*torch.sqrt(output[i]))\n",
    "    jacobian = torch.cat(grad)\n",
    "    jacobian = torch.reshape(jacobian, (len(f), 12))\n",
    "    gradvectors.append(jacobian.detach().numpy())\n",
    "    return gradvectors\n",
    "#---MAIN FISHER INITALISATION---#\n",
    "'''\n",
    "net --> PyTorch Compatiable Model\n",
    "train_loader --> PyTorch/SKLearn Compatiable DataLoader Function\n",
    "n_iterations --> Number of realisations of the fisher matrix\n",
    "'''\n",
    "def CalcFIM(net, train_loader, n_iterations, approximation=None):\n",
    "    #First we need to obtain the number of weights in the last fully connected layer and freeze the weights in every other layer\n",
    "    Rank = []\n",
    "    FR = []\n",
    "    print(f\"Calculating {n_iterations} of the Fisher...\")\n",
    "    Number_of_FisherIts = n_iterations;\n",
    "    n_weight = 12\n",
    "    \n",
    "    realisations_torch = torch.zeros((Number_of_FisherIts,n_weight,n_weight)) #All fishers\n",
    "    for i in tqdm(range(Number_of_FisherIts)):\n",
    "        torch.nn.init.uniform_(net.classifier.weight, -1., 1.)\n",
    "        #torch.nn.init.normal_(net.classifier.weight, mean=0.0, std=1.0)\n",
    "        #torch.nn.init.xavier_uniform_(net.classifier.weight, gain=1.0)\n",
    "        #torch.nn.init.kaiming_normal(net.classifier.weight)\n",
    "        #torch.nn.init.orthogonal_(net.classifier.weight, gain=1.0)\n",
    "        w = net.classifier.weight\n",
    "        flat_w = w.view(-1).cpu()\n",
    "        fisher = torch.zeros((n_weight,n_weight)).to('cuda')\n",
    "        for x_n, y_n in train_loader:\n",
    "            x_n, y_n = x_n.to('cuda'), y_n.to('cuda')\n",
    "            f_n = net(x_n)[1]\n",
    "            summedfisher = np.zeros((Number_of_FisherIts, 12, 12))\n",
    "            for row in f_n:\n",
    "                if (approximation==\"emperical\"):\n",
    "                    pi_n = F.softmax(row, dim=0)\n",
    "                    diag_pi_n = torch.diag(pi_n.squeeze(0)).to('cuda')\n",
    "                    pi_n_pi_n_T=torch.from_numpy(np.outer(pi_n.cpu().detach().numpy(),np.transpose(pi_n.cpu().detach().numpy()))).to('cuda')\n",
    "                #J_f = get_gradient(row, w)\n",
    "                #newjakey = newJacob(net,(torch.squeeze(row,0)),w)\n",
    "                J_f = jacobian((torch.squeeze(row,0)),w)\n",
    "                jacob1 = J_f.cpu()\n",
    "                if (approximation==\"emperical\"):   \n",
    "                    J_f_T = J_f.permute(1,0)\n",
    "                    K2 = diag_pi_n-pi_n_pi_n_T\n",
    "                    K3 = K2.cuda()\n",
    "                    fisher += torch.matmul((torch.matmul(J_f_T,K3)),J_f)\n",
    "                else:\n",
    "                    temp_sum = np.zeros((2, 12, 12))\n",
    "                    grads = jacob1.detach().numpy()\n",
    "                    for j in range(2):\n",
    "                        temp_sum[j] += np.array(np.outer(grads[j], np.transpose(grads[j])))\n",
    "                    summedfisher[i] += np.sum(temp_sum, axis=0)\n",
    "                    fisher += torch.from_numpy(summedfisher[i]).cuda()\n",
    "            with torch.no_grad():\n",
    "                try:\n",
    "                    rank = torch.matrix_rank(fisher).item()\n",
    "                    Rank.append(rank)\n",
    "                    realisations_torch[i] = fisher.cpu()\n",
    "                    Fw = np.matmul(fisher.cpu().numpy(),flat_w)\n",
    "                    wFw = np.dot(flat_w,Fw)\n",
    "                    FR.append(wFw)\n",
    "                except:\n",
    "                    break\n",
    "    return realisations_torch, Rank, FR;"
   ]
  },
  {
   "cell_type": "code",
   "execution_count": 115,
   "id": "attached-aggregate",
   "metadata": {},
   "outputs": [
    {
     "name": "stdout",
     "output_type": "stream",
     "text": [
      "tensor([[[ 3.3137e+02,  2.2610e+01,  1.3870e+03,  ..., -6.3173e-37,\n",
      "          -1.5634e+03, -4.2562e+00],\n",
      "         [ 2.2610e+01,  1.1433e+02,  1.8231e+02,  ...,  0.0000e+00,\n",
      "          -1.1986e+02,  0.0000e+00],\n",
      "         [ 1.3870e+03,  1.8231e+02,  6.2478e+03,  ...,  0.0000e+00,\n",
      "          -7.1515e+03, -5.0033e+00],\n",
      "         ...,\n",
      "         [-6.3173e-37,  0.0000e+00,  0.0000e+00,  ...,  2.0638e-27,\n",
      "           0.0000e+00,  0.0000e+00],\n",
      "         [-1.5634e+03, -1.1986e+02, -7.1515e+03,  ...,  0.0000e+00,\n",
      "           8.3312e+03,  8.5284e-20],\n",
      "         [-4.2562e+00,  0.0000e+00, -5.0033e+00,  ...,  0.0000e+00,\n",
      "           8.5284e-20,  4.9811e-01]],\n",
      "\n",
      "        [[ 8.1964e-12,  1.2715e-34,  0.0000e+00,  ...,  0.0000e+00,\n",
      "           0.0000e+00,  0.0000e+00],\n",
      "         [ 1.2715e-34,  8.5146e-35,  0.0000e+00,  ...,  0.0000e+00,\n",
      "           0.0000e+00,  0.0000e+00],\n",
      "         [ 0.0000e+00,  0.0000e+00,  0.0000e+00,  ...,  0.0000e+00,\n",
      "           0.0000e+00,  0.0000e+00],\n",
      "         ...,\n",
      "         [ 0.0000e+00,  0.0000e+00,  0.0000e+00,  ...,  0.0000e+00,\n",
      "           0.0000e+00,  0.0000e+00],\n",
      "         [ 0.0000e+00,  0.0000e+00,  0.0000e+00,  ...,  0.0000e+00,\n",
      "           0.0000e+00,  0.0000e+00],\n",
      "         [ 0.0000e+00,  0.0000e+00,  0.0000e+00,  ...,  0.0000e+00,\n",
      "           0.0000e+00,  0.0000e+00]],\n",
      "\n",
      "        [[ 1.1024e+03,  3.6625e+02,  1.5435e+02,  ..., -1.0890e+02,\n",
      "          -7.6791e+03, -1.2989e-28],\n",
      "         [ 3.6625e+02,  7.8273e+03,  5.2064e+02,  ..., -6.0684e+01,\n",
      "          -6.2443e+02,  0.0000e+00],\n",
      "         [ 1.5435e+02,  5.2064e+02,  2.3889e+02,  ..., -1.2882e+02,\n",
      "          -7.3831e+02, -9.6953e-28],\n",
      "         ...,\n",
      "         [-1.0890e+02, -6.0684e+01, -1.2882e+02,  ...,  1.0295e+02,\n",
      "           5.0007e+02,  0.0000e+00],\n",
      "         [-7.6791e+03, -6.2443e+02, -7.3831e+02,  ...,  5.0007e+02,\n",
      "           5.4820e+04,  0.0000e+00],\n",
      "         [-1.2989e-28,  0.0000e+00, -9.6953e-28,  ...,  0.0000e+00,\n",
      "           0.0000e+00,  1.2344e-17]],\n",
      "\n",
      "        ...,\n",
      "\n",
      "        [[ 5.7560e+04,  1.6284e+04,  2.5814e+04,  ..., -2.6833e+01,\n",
      "          -1.0986e+03, -1.9542e+02],\n",
      "         [ 1.6284e+04,  1.5440e+04,  1.6353e+04,  ..., -7.8515e+00,\n",
      "          -6.3962e+02, -5.7176e+01],\n",
      "         [ 2.5814e+04,  1.6353e+04,  1.9259e+04,  ..., -1.0669e+01,\n",
      "          -4.4299e+02, -7.7706e+01],\n",
      "         ...,\n",
      "         [-2.6833e+01, -7.8515e+00, -1.0669e+01,  ...,  6.2676e+00,\n",
      "           3.2006e-03,  4.5647e+01],\n",
      "         [-1.0986e+03, -6.3962e+02, -4.4299e+02,  ...,  3.2006e-03,\n",
      "           1.0351e+03,  1.3920e-03],\n",
      "         [-1.9542e+02, -5.7176e+01, -7.7706e+01,  ...,  4.5647e+01,\n",
      "           1.3920e-03,  3.3246e+02]],\n",
      "\n",
      "        [[ 7.0451e+02,  6.6007e+02,  1.3085e+02,  ..., -1.4737e+02,\n",
      "          -5.2858e+02,  0.0000e+00],\n",
      "         [ 6.6007e+02,  4.0322e+03,  6.8910e+02,  ..., -9.7837e+02,\n",
      "          -5.7405e+00,  0.0000e+00],\n",
      "         [ 1.3085e+02,  6.8910e+02,  1.2678e+02,  ..., -1.6272e+02,\n",
      "          -2.0809e-01,  0.0000e+00],\n",
      "         ...,\n",
      "         [-1.4737e+02, -9.7837e+02, -1.6272e+02,  ...,  2.4154e+02,\n",
      "           0.0000e+00,  0.0000e+00],\n",
      "         [-5.2858e+02, -5.7405e+00, -2.0809e-01,  ...,  0.0000e+00,\n",
      "           5.0164e+02,  4.8182e-33],\n",
      "         [ 0.0000e+00,  0.0000e+00,  0.0000e+00,  ...,  0.0000e+00,\n",
      "           4.8182e-33,  8.1205e-34]],\n",
      "\n",
      "        [[ 1.1169e+03,  1.4640e-01,  1.5534e+02,  ..., -1.8356e-20,\n",
      "          -5.9503e+02, -6.6722e-20],\n",
      "         [ 1.4640e-01,  6.7221e-02,  1.3289e-01,  ...,  0.0000e+00,\n",
      "          -8.0164e-09, -5.3983e-20],\n",
      "         [ 1.5534e+02,  1.3289e-01,  9.7436e+03,  ..., -3.3870e-23,\n",
      "          -8.2633e+01, -9.7212e-23],\n",
      "         ...,\n",
      "         [-1.8356e-20,  0.0000e+00, -3.3870e-23,  ...,  2.0037e-03,\n",
      "           7.1023e-12,  7.5881e-12],\n",
      "         [-5.9503e+02, -8.0164e-09, -8.2633e+01,  ...,  7.1023e-12,\n",
      "           3.1710e+02,  2.0385e-11],\n",
      "         [-6.6722e-20, -5.3983e-20, -9.7212e-23,  ...,  7.5881e-12,\n",
      "           2.0385e-11,  2.1779e-11]]])\n",
      "[[ 1.2105  0.6662  0.4808  0.1812  0.6878  0.0348 -1.2105 -0.6662 -0.4808 -0.1812 -0.6878 -0.0348]\n",
      " [ 0.6662  1.2169  0.2127  0.2093  0.4578  0.0339 -0.6662 -1.2169 -0.2127 -0.2093 -0.4578 -0.0339]\n",
      " [ 0.4808  0.2127  0.5279  0.0061  0.4536  0.0138 -0.4808 -0.2127 -0.5279 -0.0061 -0.4536 -0.0138]\n",
      " [ 0.1812  0.2093  0.0061  0.1517  0.1     0.0029 -0.1812 -0.2093 -0.0061 -0.1517 -0.1    -0.0029]\n",
      " [ 0.6878  0.4578  0.4536  0.1     2.8023  0.0503 -0.6878 -0.4578 -0.4536 -0.1    -2.8023 -0.0503]\n",
      " [ 0.0348  0.0339  0.0138  0.0029  0.0503  0.0908 -0.0348 -0.0339 -0.0138 -0.0029 -0.0503 -0.0908]\n",
      " [-1.2105 -0.6662 -0.4808 -0.1812 -0.6878 -0.0348  1.2105  0.6662  0.4808  0.1812  0.6878  0.0348]\n",
      " [-0.6662 -1.2169 -0.2127 -0.2093 -0.4578 -0.0339  0.6662  1.2169  0.2127  0.2093  0.4578  0.0339]\n",
      " [-0.4808 -0.2127 -0.5279 -0.0061 -0.4536 -0.0138  0.4808  0.2127  0.5279  0.0061  0.4536  0.0138]\n",
      " [-0.1812 -0.2093 -0.0061 -0.1517 -0.1    -0.0029  0.1812  0.2093  0.0061  0.1517  0.1     0.0029]\n",
      " [-0.6878 -0.4578 -0.4536 -0.1    -2.8023 -0.0503  0.6878  0.4578  0.4536  0.1     2.8023  0.0503]\n",
      " [-0.0348 -0.0339 -0.0138 -0.0029 -0.0503 -0.0908  0.0348  0.0339  0.0138  0.0029  0.0503  0.0908]]\n"
     ]
    }
   ],
   "source": [
    "print(Fishers)\n",
    "FinalAverageFisher = normalise(Fishers.detach().numpy())\n",
    "print(FinalAverageFisher)"
   ]
  },
  {
   "cell_type": "markdown",
   "id": "invalid-colon",
   "metadata": {},
   "source": [
    "Calculating values of the Fisher Information Matrix manually (not using the imports)"
   ]
  },
  {
   "cell_type": "markdown",
   "id": "planned-trauma",
   "metadata": {},
   "source": [
    "Example Plots of the Fisher Information Matrix"
   ]
  },
  {
   "cell_type": "code",
   "execution_count": 133,
   "id": "other-benjamin",
   "metadata": {},
   "outputs": [
    {
     "data": {
      "image/png": "[encoded data removed]",
      "text/plain": [
       "<Figure size 432x288 with 4 Axes>"
      ]
     },
     "metadata": {
      "needs_background": "light"
     },
     "output_type": "display_data"
    },
    {
     "data": {
      "text/plain": [
       "<matplotlib.image.AxesImage at 0x7f0d3efc6c10>"
      ]
     },
     "execution_count": 133,
     "metadata": {},
     "output_type": "execute_result"
    },
    {
     "data": {
      "image/png": "[encoded data removed]",
      "text/plain": [
       "<Figure size 432x288 with 1 Axes>"
      ]
     },
     "metadata": {
      "needs_background": "light"
     },
     "output_type": "display_data"
    }
   ],
   "source": [
    "f, axarr = plt.subplots(2,2)\n",
    "\n",
    "axarr[0,0].imshow(Fishers[0].cpu())\n",
    "axarr[0,1].imshow(Fishers[1].cpu())\n",
    "axarr[1,0].imshow(Fishers[2].cpu())\n",
    "axarr[1,1].imshow(Fishers[3].cpu())\n",
    "plt.show()\n",
    "\n",
    "plt.imshow(FinalAverageFisher)"
   ]
  },
  {
   "cell_type": "markdown",
   "id": "surprised-removal",
   "metadata": {},
   "source": [
    "Eigenvalue Distribution of the Fisher Information Matrix"
   ]
  },
  {
   "cell_type": "code",
   "execution_count": 132,
   "id": "impossible-disney",
   "metadata": {},
   "outputs": [
    {
     "data": {
      "image/png": "[encoded data removed]",
      "text/plain": [
       "<Figure size 432x288 with 1 Axes>"
      ]
     },
     "metadata": {
      "needs_background": "light"
     },
     "output_type": "display_data"
    }
   ],
   "source": [
    "EV =[]\n",
    "#normalise fisher\n",
    "\n",
    "#Calculate Positive Eigenvalues\n",
    "for i in Fishers:\n",
    "    EV = np.append(EV,torch.eig(i, eigenvectors=False,  out=None)[0][:,0].detach().numpy())\n",
    "#Plot Them\n",
    "plt.subplot(111)\n",
    "nbins = 10\n",
    "plt.hist(EV, bins=nbins, rwidth=0.8, color='r')\n",
    "plt.ylabel(\"Total Counts\")\n",
    "plt.xlabel(\"Eigenvalue\")\n",
    "plt.title(\"Fisher Matrix Eigenspectrum\")\n",
    "plt.show()"
   ]
  },
  {
   "cell_type": "markdown",
   "id": "moved-december",
   "metadata": {},
   "source": [
    "Rank Distribution of the Obtained Realisations of the Fisher Information Matrix"
   ]
  },
  {
   "cell_type": "code",
   "execution_count": 131,
   "id": "fabulous-roberts",
   "metadata": {},
   "outputs": [
    {
     "name": "stdout",
     "output_type": "stream",
     "text": [
      "The Mean Rank obtained is 2.2187698161065312 \n",
      "\n"
     ]
    },
    {
     "data": {
      "image/png": "[encoded data removed]",
      "text/plain": [
       "<Figure size 432x288 with 1 Axes>"
      ]
     },
     "metadata": {
      "needs_background": "light"
     },
     "output_type": "display_data"
    }
   ],
   "source": [
    "plt.subplot(111)\n",
    "nbins = 8\n",
    "plt.hist(Rank, bins=nbins, rwidth=0.8, color='g')\n",
    "plt.ylabel(\"Total Counts\")\n",
    "plt.xlabel(\"Matrix Rank\")\n",
    "plt.title(\"Fisher Matrix Rank Distribution\")\n",
    "MeanRank = np.mean(Rank)\n",
    "print(f\"The Mean Rank obtained is {MeanRank} \\n\")\n",
    "plt.savefig('VanillaRank.png')\n",
    "plt.show()"
   ]
  },
  {
   "cell_type": "markdown",
   "id": "public-works",
   "metadata": {},
   "source": [
    "Fisher Rao Norm Distribution"
   ]
  },
  {
   "cell_type": "code",
   "execution_count": 130,
   "id": "indonesian-acquisition",
   "metadata": {},
   "outputs": [
    {
     "data": {
      "image/png": "[encoded data removed]",
      "text/plain": [
       "<Figure size 432x288 with 1 Axes>"
      ]
     },
     "metadata": {
      "needs_background": "light"
     },
     "output_type": "display_data"
    }
   ],
   "source": [
    "plt.subplot(111)\n",
    "nbins = 10\n",
    "FR2 = [np.abs(e) for e in FR]\n",
    "plt.hist(FR2, bins=nbins, rwidth = 0.8 ,color='b')\n",
    "plt.ylabel(\"Total Counts\")\n",
    "plt.xlabel(\"Fisher Rao Norm\")\n",
    "plt.title(\"Fisher Rao Norm Distribution\")\n",
    "plt.savefig('VanillaRao.png')\n",
    "plt.show()"
   ]
  },
  {
   "cell_type": "markdown",
   "id": "flexible-chancellor",
   "metadata": {},
   "source": [
    "Testing the Effective Dimension"
   ]
  },
  {
   "cell_type": "code",
   "execution_count": 129,
   "id": "responsible-combining",
   "metadata": {},
   "outputs": [
    {
     "name": "stderr",
     "output_type": "stream",
     "text": [
      "100%|██████████| 1000/1000 [00:00<00:00, 6917.13it/s]\n"
     ]
    },
    {
     "data": {
      "text/plain": [
       "[<matplotlib.lines.Line2D at 0x7f0d436a3f10>]"
      ]
     },
     "execution_count": 129,
     "metadata": {},
     "output_type": "execute_result"
    },
    {
     "data": {
      "image/png": "[encoded data removed]",
      "text/plain": [
       "<Figure size 432x288 with 1 Axes>"
      ]
     },
     "metadata": {
      "needs_background": "light"
     },
     "output_type": "display_data"
    }
   ],
   "source": [
    "ed = []\n",
    "n_samples = [i for i in range(10,1000000,1000)]\n",
    "workingdir = config['output']['directory']\n",
    "\n",
    "ed = effective_dimension(net,FinalAverageFisher, 12, n_samples, 12)\n",
    "d = {\"Samples\": n_samples, \"ED\": np.array([x/12 for x in ed])}\n",
    "pickle.dump(d, open(f\"{workingdir}/effd.p\", \"wb\"))\n",
    "plt.plot(d['Samples'], d['ED'])"
   ]
  },
  {
   "cell_type": "markdown",
   "id": "known-healthcare",
   "metadata": {},
   "source": []
  }
 ],
 "metadata": {
  "kernelspec": {
   "display_name": "Python 3",
   "language": "python",
   "name": "python3"
  },
  "language_info": {
   "codemirror_mode": {
    "name": "ipython",
    "version": 3
   },
   "file_extension": ".py",
   "mimetype": "text/x-python",
   "name": "python",
   "nbconvert_exporter": "python",
   "pygments_lexer": "ipython3",
   "version": "3.8.5"
  }
 },
 "nbformat": 4,
 "nbformat_minor": 5
}
