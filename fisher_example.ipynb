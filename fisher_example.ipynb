{
 "cells": [
  {
   "cell_type": "markdown",
   "id": "analyzed-familiar",
   "metadata": {},
   "source": [
    "This notebook demonstrates using the Fisher Information to calculate generalisability and trainability metrics"
   ]
  },
  {
   "cell_type": "code",
   "execution_count": 1,
   "id": "weird-magnet",
   "metadata": {},
   "outputs": [],
   "source": [
    "import os\n",
    "import sys\n",
    "\n",
    "import torch\n",
    "import torch.nn as nn\n",
    "import torch.nn.functional as F\n",
    "import torch.optim as optim\n",
    "from torchvision import transforms\n",
    "import PIL\n",
    "\n",
    "from torchsummary import summary\n",
    "\n",
    "import pandas as pd\n",
    "import numpy as np\n",
    "import matplotlib.pyplot as plt\n",
    "import configparser as ConfigParser\n",
    "\n",
    "import utils\n",
    "# Ipmport various network architectures\n",
    "from networks import AGRadGalNet, VanillaLeNet, testNet, DNSteerableLeNet, DNSteerableAGRadGalNet\n",
    "# Import various data classes\n",
    "from datasets import FRDEEPF\n",
    "from datasets import MiraBest_full, MBFRConfident, MBFRUncertain, MBHybrid\n",
    "from datasets import MingoLoTSS, MLFR, MLFRTest\n",
    "import torch.nn.functional as F"
   ]
  },
  {
   "cell_type": "markdown",
   "id": "casual-colleague",
   "metadata": {},
   "source": [
    "Load in the dataset and the relevant configuration"
   ]
  },
  {
   "cell_type": "code",
   "execution_count": 2,
   "id": "going-syndicate",
   "metadata": {},
   "outputs": [
    {
     "name": "stdout",
     "output_type": "stream",
     "text": [
      "Files already downloaded and verified\n"
     ]
    },
    {
     "name": "stderr",
     "output_type": "stream",
     "text": [
      "/raid/scratch/mattyb/venv/lib/python3.8/site-packages/torchvision/transforms/transforms.py:1314: UserWarning: Argument resample is deprecated and will be removed since v0.10.0. Please, use interpolation instead\n",
      "  warnings.warn(\n"
     ]
    }
   ],
   "source": [
    "\n",
    "PATH = \"configs/\"\n",
    "cfg_base = \"D8_attention_mirabest.cfg\"\n",
    "config = ConfigParser.ConfigParser(allow_no_value=True)\n",
    "config.read(PATH + cfg_base)\n",
    "device = \"cuda\"\n",
    "\n",
    "train_loader, valid_loader  = utils.data.load(\n",
    "    config, \n",
    "    train=True, \n",
    "    augmentation='config', \n",
    "    data_loader=True\n",
    ")\n",
    "\n",
    "transform = transforms.Compose(\n",
    "    [transforms.ToTensor(),\n",
    "     transforms.Normalize([0.5],[0.5])])"
   ]
  },
  {
   "cell_type": "code",
   "execution_count": 3,
   "id": "southwest-classic",
   "metadata": {},
   "outputs": [
    {
     "name": "stdout",
     "output_type": "stream",
     "text": [
      "Loading in DNSteerableAGRadGalNet\n"
     ]
    },
    {
     "name": "stderr",
     "output_type": "stream",
     "text": [
      "/raid/scratch/mattyb/venv/lib/python3.8/site-packages/e2cnn/nn/modules/r2_conv/basisexpansion_singleblock.py:61: UserWarning: indexing with dtype torch.uint8 is now deprecated, please use a dtype torch.bool instead. (Triggered internally at  /pytorch/aten/src/ATen/native/IndexingUtils.h:30.)\n",
      "  sampled_basis = sampled_basis[mask, ...]\n"
     ]
    },
    {
     "name": "stdout",
     "output_type": "stream",
     "text": [
      "cuda\n"
     ]
    }
   ],
   "source": [
    "print(f\"Loading in {config['model']['base']}\")\n",
    "net = locals()[config['model']['base']](**config['model']).to(device)\n",
    "\n",
    "quiet = config.getboolean('DEFAULT', 'quiet')\n",
    "early_stopping = config.getboolean('training', 'early_stopping')\n",
    "\n",
    "# Read / Create Folder for Data to be Saved\n",
    "root = config['data']['directory']\n",
    "os.makedirs(root, exist_ok=True)\n",
    "\n",
    "if not quiet:\n",
    "    if 'DN' not in config['model']['base']:\n",
    "        summary(net, (1, 150, 150))\n",
    "    print(device)\n",
    "    if device == torch.device('cuda'):\n",
    "        summary(net, (1,150,150))\n",
    "        print(torch.cuda.get_device_name(device=device))"
   ]
  },
  {
   "cell_type": "markdown",
   "id": "saved-tonight",
   "metadata": {},
   "source": [
    "Attempt to load in the best saved model"
   ]
  },
  {
   "cell_type": "code",
   "execution_count": 4,
   "id": "varied-pencil",
   "metadata": {},
   "outputs": [],
   "source": [
    "path_supliment = config['data']['augment']+'/'\n",
    "model = utils.utils.load_model(config, load_model='best', device=device, path_supliment=path_supliment)"
   ]
  },
  {
   "cell_type": "markdown",
   "id": "individual-montana",
   "metadata": {},
   "source": [
    "Save the Model Weights and then Train the Last Layer to ensure the grad information is retained"
   ]
  },
  {
   "cell_type": "code",
   "execution_count": 5,
   "id": "agreed-negative",
   "metadata": {},
   "outputs": [],
   "source": [
    "Conv1a = model.conv1a.weights\n",
    "Conv1b = model.conv1b.weights\n",
    "Conv1c = model.conv1c.weights\n",
    "Conv2a = model.conv2a.weights\n",
    "Conv2b = model.conv2b.weights\n",
    "Conv2c = model.conv2c.weights\n",
    "Conv3a = model.conv3a.weights\n",
    "Conv3b = model.conv3b.weights\n",
    "Conv3c = model.conv3c.weights\n",
    "Conv4a = model.conv4a.weights\n",
    "Conv4b = model.conv4b.weights\n",
    "Psi1 = model.attention1.psi.weight\n",
    "Psi2 = model.attention2.psi.weight\n",
    "Psi3 = model.attention3.psi.weight\n",
    "Theta1 = model.attention1.theta.weight\n",
    "Theta2 = model.attention2.theta.weight\n",
    "Theta3 = model.attention3.theta.weight\n",
    "Phi1 = model.attention1.phi.weight\n",
    "Phi2 = model.attention2.phi.weight\n",
    "Phi3 = model.attention3.phi.weight\n",
    "del(model)"
   ]
  },
  {
   "cell_type": "code",
   "execution_count": 6,
   "id": "lonely-loading",
   "metadata": {},
   "outputs": [],
   "source": [
    "\n",
    "net.conv1a.weights=Conv1a \n",
    "net.conv1b.weights=Conv1b \n",
    "net.conv1c.weights=Conv1c \n",
    "net.conv2a.weights=Conv2a \n",
    "net.conv2b.weights=Conv2b \n",
    "net.conv2c.weights=Conv2c \n",
    "net.conv3a.weights=Conv3a \n",
    "net.conv3b.weights=Conv3b \n",
    "net.conv3c.weights=Conv3c \n",
    "net.conv4a.weights=Conv4a \n",
    "net.conv4b.weights=Conv4b \n",
    "net.attention1.psi.weight=Psi1  \n",
    "net.attention2.psi.weight=Psi2  \n",
    "net.attention3.psi.weight=Psi3 \n",
    "net.attention1.theta.weight=Theta1 \n",
    "net.attention2.theta.weight=Theta2 \n",
    "net.attention3.theta.weight=Theta3 \n",
    "net.attention1.phi.weight=Phi1 \n",
    "net.attention2.phi.weight=Phi2 \n",
    "net.attention3.phi.weight=Phi3\n",
    "\n",
    "\n",
    "for name, param in net.named_parameters():\n",
    "    param.requires_grad=False\n",
    "\n",
    "net.classifier.weight.requires_grad=True\n"
   ]
  },
  {
   "cell_type": "markdown",
   "id": "broadband-savannah",
   "metadata": {},
   "source": [
    "Test a Simplified Version of the Training Cycle"
   ]
  },
  {
   "cell_type": "code",
   "execution_count": 7,
   "id": "funky-motivation",
   "metadata": {},
   "outputs": [],
   "source": [
    "def train(net, \n",
    "          device, \n",
    "          config,\n",
    "          Epoch,\n",
    "          train_loader,\n",
    "          optimizer,\n",
    "          root_out_directory_addition='',\n",
    "          scheduler = None,\n",
    "          save_validation_updates=True,\n",
    "          class_splitting_index=1,\n",
    "          loss_function = nn.CrossEntropyLoss(),\n",
    "          output_model=True,\n",
    "          early_stopping=True,\n",
    "          output_best_validation=False,\n",
    "          stop_after_epochs_without_update=2000\n",
    "         ):\n",
    "    \"\"\"Very Simple version of the training loop used in the train.py file to try and find approximate\n",
    "    gradients of the Classifier Layer\n",
    "    \"\"\"\n",
    "    # -----------------------------------------------------------------------------\n",
    "    # Initialise Seeds\n",
    "    torch.manual_seed(42)\n",
    "    np.random.seed(42)\n",
    "    # -----------------------------------------------------------------------------\n",
    "    # Training Loop\n",
    "    validation_loss_min = np.Inf\n",
    "    for epoch_count in range(Epoch):\n",
    "    \n",
    "        # Model Training\n",
    "        train_loss = 0.\n",
    "        validation_loss = 0.\n",
    "        confussion_matrix = np.zeros((2,2))\n",
    "        net.train() #Set network to train mode.\n",
    "        if 'binary_labels' in locals():\n",
    "            del binary_labels\n",
    "        if 'outputs' in locals():\n",
    "            del outputs\n",
    "\n",
    "        # Loop across data augmentations\n",
    "        for batch_idx , (data, labels) in enumerate(train_loader): #Iterates through each batch.\n",
    "            data = data.to(device)\n",
    "            labels = labels.to(device)\n",
    "\n",
    "            \n",
    "            # Create binary labels to remove morphological subclassifications (for MiraBest) ### IS THIS STILL NECESSARY?\n",
    "            binary_labels = np.zeros(labels.size(), dtype=int)\n",
    "            binary_labels = np.where(labels.cpu().numpy()<class_splitting_index, binary_labels, binary_labels+1)\n",
    "            binary_labels = torch.from_numpy(binary_labels).to(device)\n",
    "            \n",
    "                # Loss & backpropagation\n",
    "            pred = net.forward(data)[1]\n",
    "            optimizer.zero_grad()\n",
    "            loss = loss_function(pred,binary_labels)\n",
    "            loss.backward(retain_graph=True)\n",
    "            if scheduler == None:\n",
    "                optimizer.step()\n",
    "            train_loss += (loss.item()*data.size(0))\n",
    "            if scheduler != None:\n",
    "                scheduler.step(train_loss)\n",
    "        print(train_loss/(len(train_loader.dataset)))\n",
    "        print(net.classifier.weight.grad)"
   ]
  },
  {
   "cell_type": "code",
   "execution_count": 8,
   "id": "stainless-fetish",
   "metadata": {},
   "outputs": [],
   "source": [
    "optimizer = optim.Adam(filter(lambda p: p.requires_grad, net.parameters()), lr=0.001)"
   ]
  },
  {
   "cell_type": "code",
   "execution_count": 9,
   "id": "operating-melissa",
   "metadata": {},
   "outputs": [
    {
     "name": "stderr",
     "output_type": "stream",
     "text": [
      "/raid/scratch/mattyb/venv/lib/python3.8/site-packages/torch/nn/functional.py:3451: UserWarning: Default upsampling behavior when mode=bilinear is changed to align_corners=False since 0.4.0. Please specify align_corners=True if the old behavior is desired. See the documentation of nn.Upsample for details.\n",
      "  warnings.warn(\n"
     ]
    },
    {
     "name": "stdout",
     "output_type": "stream",
     "text": [
      "0.37211937062880573\n",
      "tensor([[-6.4399e-04,  2.2745e-10,  0.0000e+00,  0.0000e+00,  2.2945e-10,\n",
      "          0.0000e+00],\n",
      "        [ 6.4400e-04,  6.9388e-10,  0.0000e+00,  0.0000e+00,  8.7360e-09,\n",
      "          0.0000e+00]], device='cuda:0')\n",
      "0.37328360010595885\n",
      "tensor([[ 0.0000, -0.6673, -0.2617, -0.1395, -0.2129, -0.1905],\n",
      "        [ 0.0000,  0.6673,  0.2617,  0.1395,  0.2129,  0.1905]],\n",
      "       device='cuda:0')\n",
      "0.38968705079134774\n",
      "tensor([[1.6555e-27, 7.9949e-27, 2.3915e-28, 0.0000e+00, 1.4916e-28, 2.0332e-28],\n",
      "        [0.0000e+00, 7.1169e-16, 3.2613e-08, 0.0000e+00, 1.3410e-15, 0.0000e+00]],\n",
      "       device='cuda:0')\n",
      "0.39190323738490834\n",
      "tensor([[0.0000e+00, 8.6019e-32, 1.5067e-32, 1.1021e-32, 2.1211e-32, 0.0000e+00],\n",
      "        [0.0000e+00, 1.8220e-19, 1.4377e-18, 0.0000e+00, 0.0000e+00, 1.7787e-22]],\n",
      "       device='cuda:0')\n",
      "0.410705112359103\n",
      "tensor([[ 1.0802e+00,  2.0573e+00,  1.0823e-32,  7.9966e-33,  9.6727e-01,\n",
      "          1.8918e-34],\n",
      "        [-1.0802e+00, -2.0573e+00,  2.0088e-20,  0.0000e+00, -9.6727e-01,\n",
      "          2.4782e-19]], device='cuda:0')\n",
      "0.39970753824009614\n",
      "tensor([[0.0000e+00, 0.0000e+00, 0.0000e+00, 0.0000e+00, 0.0000e+00, 0.0000e+00],\n",
      "        [6.8783e-41, 1.5156e-16, 1.5315e-15, 8.1418e-18, 6.2827e-16, 0.0000e+00]],\n",
      "       device='cuda:0')\n",
      "0.40012000062886405\n",
      "tensor([[ 0.0000e+00, -5.1750e-34,  0.0000e+00, -4.7020e-35, -2.2651e-02,\n",
      "         -3.5913e-35],\n",
      "        [ 0.0000e+00,  1.6659e-24,  4.7542e-24,  0.0000e+00,  2.2651e-02,\n",
      "          6.9026e-33]], device='cuda:0')\n",
      "0.3809170652838314\n",
      "tensor([[ 0.0000e+00,  1.4623e-06,  4.3359e-09,  5.0093e-07,  5.5357e-07,\n",
      "          0.0000e+00],\n",
      "        [ 0.0000e+00, -1.5027e-06,  0.0000e+00, -5.1844e-07, -5.6652e-07,\n",
      "          0.0000e+00]], device='cuda:0')\n",
      "0.40045301703845754\n",
      "tensor([[ 0.0000e+00, -3.2047e-33,  3.4552e-39,  2.2601e-39,  0.0000e+00,\n",
      "          3.6218e-39],\n",
      "        [ 2.0225e-24,  1.3564e-34,  0.0000e+00,  2.6803e-24,  5.1612e-23,\n",
      "          0.0000e+00]], device='cuda:0')\n",
      "0.38291550033232746\n",
      "tensor([[ 0.0000e+00, -1.3270e-03,  0.0000e+00,  0.0000e+00, -8.5075e-04,\n",
      "          0.0000e+00],\n",
      "        [-3.9189e-37,  1.3272e-03, -2.6535e-37, -6.6730e-38,  8.5084e-04,\n",
      "          0.0000e+00]], device='cuda:0')\n"
     ]
    }
   ],
   "source": [
    "train(net, device, config, 10, train_loader, optimizer)"
   ]
  },
  {
   "cell_type": "code",
   "execution_count": 10,
   "id": "stone-momentum",
   "metadata": {},
   "outputs": [
    {
     "name": "stdout",
     "output_type": "stream",
     "text": [
      "tensor([[ 0.0000e+00, -3.9156e-01,  3.9816e-07,  0.0000e+00, -5.6453e-01,\n",
      "          0.0000e+00],\n",
      "        [-1.6111e-26,  3.9156e-01, -5.2954e-07,  0.0000e+00,  5.6453e-01,\n",
      "         -1.5680e-26]], device='cuda:0')\n"
     ]
    }
   ],
   "source": [
    "print(net.classifier.weight.grad)"
   ]
  },
  {
   "cell_type": "code",
   "execution_count": null,
   "id": "endangered-anger",
   "metadata": {},
   "outputs": [],
   "source": []
  },
  {
   "cell_type": "markdown",
   "id": "naval-supplier",
   "metadata": {},
   "source": [
    "Function to obtain the Jacobian using the Torch AutoGrad"
   ]
  },
  {
   "cell_type": "code",
   "execution_count": 10,
   "id": "alive-shareware",
   "metadata": {},
   "outputs": [],
   "source": [
    "def jacobian(f, w, create_graph=False):   \n",
    "\n",
    "    \"\"\"\n",
    "    function to find the jacobian of f with respect to x parameters of model\n",
    "\n",
    "    output has shape (len(f), len(x))\n",
    "    \"\"\"\n",
    "\n",
    "    jac = []                                                                                          \n",
    "    grad_f = torch.zeros_like(f)\n",
    "\n",
    "    for i in range(len(f)):                                                                      \n",
    "        grad_f[i] = 1.\n",
    "        grad_f_x = torch.autograd.grad(f, w, grad_f, retain_graph=True, create_graph=create_graph, allow_unused=True)\n",
    "        J = torch.cat(grad_f_x).view(-1)\n",
    "        jac.append(J)\n",
    "        grad_f[i] = 0.\n",
    "                                                  \n",
    "    return torch.stack(jac).reshape(f.shape + J.shape)       "
   ]
  },
  {
   "cell_type": "markdown",
   "id": "dangerous-concert",
   "metadata": {},
   "source": [
    "Calculating values of the Fisher Information Matrix manually (not using the imports)"
   ]
  },
  {
   "cell_type": "code",
   "execution_count": 11,
   "id": "productive-livestock",
   "metadata": {},
   "outputs": [
    {
     "name": "stderr",
     "output_type": "stream",
     "text": [
      "100%|██████████| 1000/1000 [41:50<00:00,  2.51s/it]\n"
     ]
    }
   ],
   "source": [
    "from tqdm import tqdm\n",
    "Number_of_FisherIts = 1000\n",
    "Rank = []\n",
    "EV = []\n",
    "FR = []\n",
    "n_weight = 12\n",
    "realisations_torch = torch.zeros((Number_of_FisherIts,n_weight,n_weight)).to(device) #All fishers\n",
    "for i in tqdm(range(Number_of_FisherIts)):\n",
    "    torch.nn.init.uniform_(net.classifier.weight, -1., 1.)\n",
    "    #torch.nn.init.xavier_uniform_(net.classifier.weight, gain=1.0)\n",
    "    #torch.nn.init.kaiming_normal(net.classifier.weight)\n",
    "    #torch.nn.init.orthogonal_(net.classifier.weight, gain=1.0)\n",
    "    w = net.classifier.weight\n",
    "    flat_w = w.view(-1).cpu()\n",
    "\n",
    "    fisher = torch.zeros((n_weight,n_weight)).to('cuda')\n",
    "    for x_n, y_n in train_loader:\n",
    "        x_n, y_n = x_n.to('cuda'), y_n.to('cuda')\n",
    "\n",
    "        f_n = net(x_n)[0]\n",
    "        for row in f_n:\n",
    "            pi_n = F.softmax(row, dim=0)\n",
    "            diag_pi_n = torch.diag(pi_n.squeeze(0)).to('cuda')\n",
    "            pi_n_pi_n_T= torch.from_numpy(np.outer(pi_n.cpu().detach().numpy(),pi_n.cpu().detach().numpy())).to('cuda')\n",
    "            J_f = jacobian((torch.squeeze(row,0)),w)\n",
    "            J_f_T = J_f.permute(1,0)\n",
    "            K2 = diag_pi_n-pi_n_pi_n_T\n",
    "            K3 = K2.cuda()\n",
    "            fisher += torch.matmul((torch.matmul(J_f_T,K3)),J_f)\n",
    "  \n",
    "    with torch.no_grad():\n",
    "        rank = torch.matrix_rank(fisher).item()\n",
    "        Rank.append(rank)\n",
    "        realisations_torch[i] = fisher.cpu()\n",
    "        Fw = np.matmul(fisher.cpu().numpy(),flat_w)\n",
    "        wFw = np.dot(flat_w,Fw)\n",
    "        FR.append(wFw)"
   ]
  },
  {
   "cell_type": "markdown",
   "id": "announced-balance",
   "metadata": {},
   "source": [
    "Example Plots of the Fisher Information Matrix"
   ]
  },
  {
   "cell_type": "code",
   "execution_count": 12,
   "id": "blocked-enclosure",
   "metadata": {},
   "outputs": [
    {
     "data": {
      "text/plain": [
       "<matplotlib.image.AxesImage at 0x7efb73bf4ca0>"
      ]
     },
     "execution_count": 12,
     "metadata": {},
     "output_type": "execute_result"
    },
    {
     "data": {
      "image/png": "[encoded data removed]",
      "text/plain": [
       "<Figure size 432x288 with 4 Axes>"
      ]
     },
     "metadata": {
      "needs_background": "light"
     },
     "output_type": "display_data"
    }
   ],
   "source": [
    "f, axarr = plt.subplots(2,2)\n",
    "\n",
    "axarr[0,0].imshow(realisations_torch[0].cpu())\n",
    "axarr[0,1].imshow(realisations_torch[1].cpu())\n",
    "axarr[1,0].imshow(realisations_torch[2].cpu())\n",
    "axarr[1,1].imshow(realisations_torch[3].cpu())"
   ]
  },
  {
   "cell_type": "markdown",
   "id": "supposed-difference",
   "metadata": {},
   "source": [
    "3D Surface of a FIM"
   ]
  },
  {
   "cell_type": "code",
   "execution_count": 13,
   "id": "featured-morgan",
   "metadata": {},
   "outputs": [
    {
     "ename": "TypeError",
     "evalue": "any() received an invalid combination of arguments - got (out=NoneType, axis=NoneType, ), but expected one of:\n * ()\n * (name dim, bool keepdim)\n      didn't match because some of the keywords were incorrect: out, axis\n * (int dim, bool keepdim)\n      didn't match because some of the keywords were incorrect: out, axis\n",
     "output_type": "error",
     "traceback": [
      "\u001b[0;31m---------------------------------------------------------------------------\u001b[0m",
      "\u001b[0;31mTypeError\u001b[0m                                 Traceback (most recent call last)",
      "\u001b[0;32m<ipython-input-13-d03cfd50a8bb>\u001b[0m in \u001b[0;36m<module>\u001b[0;34m\u001b[0m\n\u001b[1;32m      4\u001b[0m \u001b[0mfig\u001b[0m \u001b[0;34m=\u001b[0m \u001b[0mplt\u001b[0m\u001b[0;34m.\u001b[0m\u001b[0mfigure\u001b[0m\u001b[0;34m(\u001b[0m\u001b[0;34m)\u001b[0m\u001b[0;34m\u001b[0m\u001b[0;34m\u001b[0m\u001b[0m\n\u001b[1;32m      5\u001b[0m \u001b[0max\u001b[0m \u001b[0;34m=\u001b[0m \u001b[0mfig\u001b[0m\u001b[0;34m.\u001b[0m\u001b[0mgca\u001b[0m\u001b[0;34m(\u001b[0m\u001b[0mprojection\u001b[0m\u001b[0;34m=\u001b[0m\u001b[0;34m'3d'\u001b[0m\u001b[0;34m)\u001b[0m\u001b[0;34m\u001b[0m\u001b[0;34m\u001b[0m\u001b[0m\n\u001b[0;32m----> 6\u001b[0;31m ax.plot_surface(xx, yy, realisations_torch[0].cpu() ,rstride=1, cstride=1, cmap=plt.cm.gray,\n\u001b[0m\u001b[1;32m      7\u001b[0m         linewidth=0)\n\u001b[1;32m      8\u001b[0m \u001b[0;34m\u001b[0m\u001b[0m\n",
      "\u001b[0;32m/raid/scratch/mattyb/venv/lib/python3.8/site-packages/mpl_toolkits/mplot3d/axes3d.py\u001b[0m in \u001b[0;36mplot_surface\u001b[0;34m(self, X, Y, Z, norm, vmin, vmax, lightsource, *args, **kwargs)\u001b[0m\n\u001b[1;32m   1555\u001b[0m         \u001b[0;32mif\u001b[0m \u001b[0mZ\u001b[0m\u001b[0;34m.\u001b[0m\u001b[0mndim\u001b[0m \u001b[0;34m!=\u001b[0m \u001b[0;36m2\u001b[0m\u001b[0;34m:\u001b[0m\u001b[0;34m\u001b[0m\u001b[0;34m\u001b[0m\u001b[0m\n\u001b[1;32m   1556\u001b[0m             \u001b[0;32mraise\u001b[0m \u001b[0mValueError\u001b[0m\u001b[0;34m(\u001b[0m\u001b[0;34m\"Argument Z must be 2-dimensional.\"\u001b[0m\u001b[0;34m)\u001b[0m\u001b[0;34m\u001b[0m\u001b[0;34m\u001b[0m\u001b[0m\n\u001b[0;32m-> 1557\u001b[0;31m         \u001b[0;32mif\u001b[0m \u001b[0mnp\u001b[0m\u001b[0;34m.\u001b[0m\u001b[0many\u001b[0m\u001b[0;34m(\u001b[0m\u001b[0mnp\u001b[0m\u001b[0;34m.\u001b[0m\u001b[0misnan\u001b[0m\u001b[0;34m(\u001b[0m\u001b[0mZ\u001b[0m\u001b[0;34m)\u001b[0m\u001b[0;34m)\u001b[0m\u001b[0;34m:\u001b[0m\u001b[0;34m\u001b[0m\u001b[0;34m\u001b[0m\u001b[0m\n\u001b[0m\u001b[1;32m   1558\u001b[0m             cbook._warn_external(\n\u001b[1;32m   1559\u001b[0m                 \u001b[0;34m\"Z contains NaN values. This may result in rendering \"\u001b[0m\u001b[0;34m\u001b[0m\u001b[0;34m\u001b[0m\u001b[0m\n",
      "\u001b[0;32m<__array_function__ internals>\u001b[0m in \u001b[0;36many\u001b[0;34m(*args, **kwargs)\u001b[0m\n",
      "\u001b[0;32m/raid/scratch/mattyb/venv/lib/python3.8/site-packages/numpy/core/fromnumeric.py\u001b[0m in \u001b[0;36many\u001b[0;34m(a, axis, out, keepdims, where)\u001b[0m\n\u001b[1;32m   2344\u001b[0m \u001b[0;34m\u001b[0m\u001b[0m\n\u001b[1;32m   2345\u001b[0m     \"\"\"\n\u001b[0;32m-> 2346\u001b[0;31m     return _wrapreduction(a, np.logical_or, 'any', axis, None, out,\n\u001b[0m\u001b[1;32m   2347\u001b[0m                           keepdims=keepdims, where=where)\n\u001b[1;32m   2348\u001b[0m \u001b[0;34m\u001b[0m\u001b[0m\n",
      "\u001b[0;32m/raid/scratch/mattyb/venv/lib/python3.8/site-packages/numpy/core/fromnumeric.py\u001b[0m in \u001b[0;36m_wrapreduction\u001b[0;34m(obj, ufunc, method, axis, dtype, out, **kwargs)\u001b[0m\n\u001b[1;32m     83\u001b[0m                 \u001b[0;32mreturn\u001b[0m \u001b[0mreduction\u001b[0m\u001b[0;34m(\u001b[0m\u001b[0maxis\u001b[0m\u001b[0;34m=\u001b[0m\u001b[0maxis\u001b[0m\u001b[0;34m,\u001b[0m \u001b[0mdtype\u001b[0m\u001b[0;34m=\u001b[0m\u001b[0mdtype\u001b[0m\u001b[0;34m,\u001b[0m \u001b[0mout\u001b[0m\u001b[0;34m=\u001b[0m\u001b[0mout\u001b[0m\u001b[0;34m,\u001b[0m \u001b[0;34m**\u001b[0m\u001b[0mpasskwargs\u001b[0m\u001b[0;34m)\u001b[0m\u001b[0;34m\u001b[0m\u001b[0;34m\u001b[0m\u001b[0m\n\u001b[1;32m     84\u001b[0m             \u001b[0;32melse\u001b[0m\u001b[0;34m:\u001b[0m\u001b[0;34m\u001b[0m\u001b[0;34m\u001b[0m\u001b[0m\n\u001b[0;32m---> 85\u001b[0;31m                 \u001b[0;32mreturn\u001b[0m \u001b[0mreduction\u001b[0m\u001b[0;34m(\u001b[0m\u001b[0maxis\u001b[0m\u001b[0;34m=\u001b[0m\u001b[0maxis\u001b[0m\u001b[0;34m,\u001b[0m \u001b[0mout\u001b[0m\u001b[0;34m=\u001b[0m\u001b[0mout\u001b[0m\u001b[0;34m,\u001b[0m \u001b[0;34m**\u001b[0m\u001b[0mpasskwargs\u001b[0m\u001b[0;34m)\u001b[0m\u001b[0;34m\u001b[0m\u001b[0;34m\u001b[0m\u001b[0m\n\u001b[0m\u001b[1;32m     86\u001b[0m \u001b[0;34m\u001b[0m\u001b[0m\n\u001b[1;32m     87\u001b[0m     \u001b[0;32mreturn\u001b[0m \u001b[0mufunc\u001b[0m\u001b[0;34m.\u001b[0m\u001b[0mreduce\u001b[0m\u001b[0;34m(\u001b[0m\u001b[0mobj\u001b[0m\u001b[0;34m,\u001b[0m \u001b[0maxis\u001b[0m\u001b[0;34m,\u001b[0m \u001b[0mdtype\u001b[0m\u001b[0;34m,\u001b[0m \u001b[0mout\u001b[0m\u001b[0;34m,\u001b[0m \u001b[0;34m**\u001b[0m\u001b[0mpasskwargs\u001b[0m\u001b[0;34m)\u001b[0m\u001b[0;34m\u001b[0m\u001b[0;34m\u001b[0m\u001b[0m\n",
      "\u001b[0;31mTypeError\u001b[0m: any() received an invalid combination of arguments - got (out=NoneType, axis=NoneType, ), but expected one of:\n * ()\n * (name dim, bool keepdim)\n      didn't match because some of the keywords were incorrect: out, axis\n * (int dim, bool keepdim)\n      didn't match because some of the keywords were incorrect: out, axis\n"
     ]
    },
    {
     "data": {
      "image/png": "[encoded data removed]",
      "text/plain": [
       "<Figure size 432x288 with 1 Axes>"
      ]
     },
     "metadata": {
      "needs_background": "light"
     },
     "output_type": "display_data"
    }
   ],
   "source": [
    "xx, yy = np.mgrid[0:realisations_torch[0].cpu().shape[0], 0:realisations_torch[0].cpu().shape[1]]\n",
    "\n",
    "# create the figure\n",
    "fig = plt.figure()\n",
    "ax = fig.gca(projection='3d')\n",
    "ax.plot_surface(xx, yy, realisations_torch[0].cpu() ,rstride=1, cstride=1, cmap=plt.cm.gray,\n",
    "        linewidth=0)\n",
    "\n",
    "# show it\n",
    "plt.show()"
   ]
  },
  {
   "cell_type": "markdown",
   "id": "informative-liechtenstein",
   "metadata": {},
   "source": [
    "Eigenvalue Distribution of the Fisher Information Matrix"
   ]
  },
  {
   "cell_type": "code",
   "execution_count": 14,
   "id": "designed-reducing",
   "metadata": {},
   "outputs": [
    {
     "data": {
      "image/png": "[encoded data removed]",
      "text/plain": [
       "<Figure size 432x288 with 1 Axes>"
      ]
     },
     "metadata": {
      "needs_background": "light"
     },
     "output_type": "display_data"
    }
   ],
   "source": [
    "EV =[]\n",
    "#normalise fisher\n",
    "normalised_fishers = utils.fisher.normalise(realisations_torch.cpu())\n",
    "\n",
    "#Calculate Positive Eigenvalues\n",
    "for i in normalised_fishers:\n",
    "    EV = np.append(EV,torch.eig(i, eigenvectors=False,  out=None)[0][:,0].detach().numpy())\n",
    "#Plot Them\n",
    "plt.subplot(111)\n",
    "nbins = 10\n",
    "plt.hist(EV, bins=nbins, rwidth=0.8, color='r')\n",
    "plt.ylabel(\"Total Counts\")\n",
    "plt.xlabel(\"Eigenvalue\")\n",
    "plt.title(\"Fisher Matrix Eigenspectrum\")\n",
    "plt.show()"
   ]
  },
  {
   "cell_type": "markdown",
   "id": "cardiovascular-saturn",
   "metadata": {},
   "source": [
    "Rank Distribution of the Obtained Realisations of the Fisher Information Matrix"
   ]
  },
  {
   "cell_type": "code",
   "execution_count": 15,
   "id": "computational-sugar",
   "metadata": {},
   "outputs": [
    {
     "name": "stdout",
     "output_type": "stream",
     "text": [
      "The Mean Rank obtained is 4.452 \n",
      "\n"
     ]
    },
    {
     "data": {
      "image/png": "[encoded data removed]",
      "text/plain": [
       "<Figure size 432x288 with 1 Axes>"
      ]
     },
     "metadata": {
      "needs_background": "light"
     },
     "output_type": "display_data"
    }
   ],
   "source": [
    "plt.subplot(111)\n",
    "nbins = 8\n",
    "plt.hist(Rank, bins=nbins, rwidth=0.8, color='g')\n",
    "plt.ylabel(\"Total Counts\")\n",
    "plt.xlabel(\"Matrix Rank\")\n",
    "plt.title(\"Fisher Matrix Rank Distribution\")\n",
    "MeanRank = np.mean(Rank)\n",
    "print(f\"The Mean Rank obtained is {MeanRank} \\n\")\n",
    "plt.savefig('VanillaRank.png')\n",
    "plt.show()"
   ]
  },
  {
   "cell_type": "markdown",
   "id": "supposed-burden",
   "metadata": {},
   "source": [
    "Fisher Rao Norm Distribution"
   ]
  },
  {
   "cell_type": "code",
   "execution_count": 16,
   "id": "engaged-motorcycle",
   "metadata": {},
   "outputs": [
    {
     "data": {
      "image/png": "[encoded data removed]",
      "text/plain": [
       "<Figure size 432x288 with 1 Axes>"
      ]
     },
     "metadata": {
      "needs_background": "light"
     },
     "output_type": "display_data"
    }
   ],
   "source": [
    "plt.subplot(111)\n",
    "nbins = 10\n",
    "FR2 = [np.abs(e) for e in FR]\n",
    "plt.hist(FR2, bins=nbins, rwidth = 0.8 ,color='b')\n",
    "plt.ylabel(\"Total Counts\")\n",
    "plt.xlabel(\"Fisher Rao Norm\")\n",
    "plt.title(\"Fisher Rao Norm Distribution\")\n",
    "plt.savefig('VanillaRao.png')\n",
    "plt.show()"
   ]
  },
  {
   "cell_type": "code",
   "execution_count": null,
   "id": "small-produce",
   "metadata": {},
   "outputs": [],
   "source": []
  }
 ],
 "metadata": {
  "kernelspec": {
   "display_name": "Python 3",
   "language": "python",
   "name": "python3"
  },
  "language_info": {
   "codemirror_mode": {
    "name": "ipython",
    "version": 3
   },
   "file_extension": ".py",
   "mimetype": "text/x-python",
   "name": "python",
   "nbconvert_exporter": "python",
   "pygments_lexer": "ipython3",
   "version": "3.8.5"
  }
 },
 "nbformat": 4,
 "nbformat_minor": 5
}
