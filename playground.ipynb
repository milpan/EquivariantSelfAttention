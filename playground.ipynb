{
 "cells": [
  {
   "cell_type": "code",
   "execution_count": 1,
   "metadata": {},
   "outputs": [
    {
     "name": "stdout",
     "output_type": "stream",
     "text": [
      "Loading in AGRadGalNet\n"
     ]
    }
   ],
   "source": [
    "import os\n",
    "\n",
    "import torch\n",
    "import torch.nn as nn\n",
    "import torch.nn.functional as F\n",
    "import torch.optim as optim\n",
    "from torchvision import transforms\n",
    "import PIL\n",
    "\n",
    "import pandas as pd\n",
    "import numpy as np\n",
    "import matplotlib.pyplot as plt\n",
    "import configparser as ConfigParser\n",
    "\n",
    "import utils\n",
    "# Ipmport various network architectures\n",
    "from networks import AGRadGalNet\n",
    "# Import various data classes\n",
    "from datasets import FRDEEPF\n",
    "from datasets import MiraBest_full, MBFRConfident, MBFRUncertain, MBHybrid\n",
    "from datasets import MingoLoTSS, MLFR, MLFRTest\n",
    "\n",
    "# Set seeds for reproduceability\n",
    "torch.manual_seed(42)\n",
    "np.random.seed(42)\n",
    "\n",
    "# Get correct device\n",
    "device = torch.device(\"cuda\" if torch.cuda.is_available() else \"cpu\")\n",
    "\n",
    "# Read in config file\n",
    "config_name = \"configs/bowles2021mirabest.cfg\"\n",
    "config = ConfigParser.ConfigParser(allow_no_value=True)\n",
    "config.read(config_name)\n",
    "\n",
    "# Load network architecture (with random weights)\n",
    "print(f\"Loading in {config['model']['base']}\")\n",
    "net = locals()[config['model']['base']](**config['model']).to(device)"
   ]
  },
  {
   "cell_type": "code",
   "execution_count": 2,
   "metadata": {},
   "outputs": [
    {
     "name": "stdout",
     "output_type": "stream",
     "text": [
      "Files already downloaded and verified\n",
      "Files already downloaded and verified\n",
      "Files already downloaded and verified\n"
     ]
    }
   ],
   "source": [
    "# Create data transformations\n",
    "datamean = config.getfloat('data', 'datamean')\n",
    "datastd = config.getfloat('data', 'datastd')\n",
    "number_rotations = config.getint('data', 'number_rotations')\n",
    "imsize = config.getint('data', 'imsize')\n",
    "scaling_factor = config.getfloat('data', 'scaling')\n",
    "angles = list(range(0, 360, config.getint('data', 'number_rotations')))\n",
    "p_flip = 0.5 if config.getboolean('data','flip') else 0\n",
    "\n",
    "# Create hard random (seeded) rotation:\n",
    "class RotationTransform:\n",
    "    \"\"\"Rotate by one of the given angles.\"\"\"\n",
    "    def __init__(self, angles, resample):\n",
    "        self.angles = angles\n",
    "        self.resample = resample\n",
    "\n",
    "    def __call__(self, x):\n",
    "        angle = np.random.choice(a=self.angles, size=1)\n",
    "        return transforms.functional.rotate(x, angle, resample=self.resample)\n",
    "\n",
    "\n",
    "# Compose dict of transformations\n",
    "transformations = {\n",
    "    'none': transforms.Compose([\n",
    "        transforms.ToTensor(),\n",
    "        transforms.Normalize([datamean],[datastd])\n",
    "    ]),\n",
    "    'rotation and flipping': transforms.Compose([\n",
    "        transforms.CenterCrop(imsize),\n",
    "        transforms.RandomVerticalFlip(p=p_flip),\n",
    "        RotationTransform(angles, resample=PIL.Image.BILINEAR),\n",
    "        transforms.RandomAffine(\n",
    "            degrees=0, # No uncontrolled rotation\n",
    "            scale=(1-scaling_factor, 1+scaling_factor), \n",
    "            resample=PIL.Image.BILINEAR),\n",
    "        transforms.ToTensor(),\n",
    "        transforms.Normalize([datamean],[datastd])\n",
    "    ]),\n",
    "    'no rotation no flipping': transforms.Compose([\n",
    "        transforms.CenterCrop(imsize),\n",
    "        transforms.RandomVerticalFlip(p=p_flip),\n",
    "        transforms.RandomAffine(\n",
    "            degrees=0, # No uncontrolled rotation\n",
    "            scale=(1-scaling_factor, 1+scaling_factor), \n",
    "            resample=PIL.Image.BILINEAR),\n",
    "        transforms.ToTensor(),\n",
    "        transforms.Normalize([datamean],[datastd])\n",
    "    ])\n",
    "}\n",
    "\n",
    "# Read / Create Folder for Data to be Saved\n",
    "root = config['data']['directory']\n",
    "os.makedirs(root, exist_ok=True)\n",
    "download = True\n",
    "train = True\n",
    "data_class = locals()[config['data']['dataset']]\n",
    "data_set = data_class(root=root, download=download, train=train, transform=transformations['rotation and flipping'])\n",
    "\n",
    "# Seperate Data into Subsets for Training, Validation, Testing.\n",
    "train_data = data_class(root=root, download=download, train=True, transform=transformations['rotation and flipping'])\n",
    "test_data = data_class(root=root, download=download, train=False, transform=transformations['rotation and flipping'])\n",
    "\n",
    "#train_batched = torch.utils.data.DataLoader(traindata, batch_size=config.getint('training', 'batch_size'))"
   ]
  },
  {
   "cell_type": "code",
   "execution_count": 3,
   "metadata": {},
   "outputs": [
    {
     "name": "stdout",
     "output_type": "stream",
     "text": [
      "[0, 1, 2, 3, 4, 5, 6, 7, 8, 9, 10, 11, 12, 13, 14, 15, 16, 17, 18, 19, 20, 21, 22, 23, 24, 25, 26, 27, 28, 29, 30, 31, 32, 33, 34, 35, 36, 37, 38, 39, 40, 41, 42, 43, 44, 45, 46, 47, 48, 49, 50, 51, 52, 53, 54, 55, 56, 57, 58, 59, 60, 61, 62, 63, 64, 65, 66, 67, 68, 69, 70, 71, 72, 73, 74, 75, 76, 77, 78, 79, 80, 81, 82, 83, 84, 85, 86, 87, 88, 89, 90, 91, 92, 93, 94, 95, 96, 97, 98, 99, 100, 101, 102, 103, 104, 105, 106, 107, 108, 109, 110, 111, 112, 113, 114, 115, 116, 117, 118, 119, 120, 121, 122, 123, 124, 125, 126, 127, 128, 129, 130, 131, 132, 133, 134, 135, 136, 137, 138, 139, 140, 141, 142, 143, 144, 145, 146, 147, 148, 149, 150, 151, 152, 153, 154, 155, 156, 157, 158, 159, 160, 161, 162, 163, 164, 165, 166, 167, 168, 169, 170, 171, 172, 173, 174, 175, 176, 177, 178, 179, 180, 181, 182, 183, 184, 185, 186, 187, 188, 189, 190, 191, 192, 193, 194, 195, 196, 197, 198, 199, 200, 201, 202, 203, 204, 205, 206, 207, 208, 209, 210, 211, 212, 213, 214, 215, 216, 217, 218, 219, 220, 221, 222, 223, 224, 225, 226, 227, 228, 229, 230, 231, 232, 233, 234, 235, 236, 237, 238, 239, 240, 241, 242, 243, 244, 245, 246, 247, 248, 249, 250, 251, 252, 253, 254, 255, 256, 257, 258, 259, 260, 261, 262, 263, 264, 265, 266, 267, 268, 269, 270, 271, 272, 273, 274, 275, 276, 277, 278, 279, 280, 281, 282, 283, 284, 285, 286, 287, 288, 289, 290, 291, 292, 293, 294, 295, 296, 297, 298, 299, 300, 301, 302, 303, 304, 305, 306, 307, 308, 309, 310, 311, 312, 313, 314, 315, 316, 317, 318, 319, 320, 321, 322, 323, 324, 325, 326, 327, 328, 329, 330, 331, 332, 333, 334, 335, 336, 337, 338, 339, 340, 341, 342, 343, 344, 345, 346, 347, 348, 349, 350, 351, 352, 353, 354, 355, 356, 357, 358, 359, 360, 361, 362, 363, 364, 365, 366, 367, 368, 369, 370, 371, 372, 373, 374, 375, 376, 377, 378, 379, 380, 381, 382, 383, 384, 385, 386, 387, 388, 389, 390, 391, 392, 393, 394, 395, 396, 397, 398, 399, 400, 401, 402, 403, 404, 405, 406, 407, 408, 409, 410, 411, 412, 413, 414, 415, 416, 417, 418, 419, 420, 421, 422, 423, 424, 425, 426, 427, 428, 429, 430, 431, 432, 433, 434, 435, 436, 437, 438, 439, 440, 441, 442, 443, 444, 445, 446, 447, 448, 449, 450, 451, 452, 453, 454, 455, 456, 457, 458, 459, 460, 461, 462, 463, 464, 465, 466, 467, 468, 469, 470, 471, 472, 473, 474, 475, 476, 477, 478, 479, 480, 481, 482, 483, 484, 485, 486, 487, 488, 489, 490, 491, 492, 493, 494, 495, 496, 497, 498, 499, 500, 501, 502, 503, 504, 505, 506, 507, 508, 509, 510, 511, 512, 513, 514, 515, 516, 517, 518, 519, 520, 521, 522, 523, 524, 525, 526, 527, 528, 529, 530, 531, 532, 533, 534, 535, 536, 537, 538, 539, 540, 541, 542, 543, 544, 545, 546, 547, 548, 549, 550, 551, 552, 553, 554, 555, 556, 557, 558, 559, 560, 561, 562, 563, 564, 565, 566, 567, 568, 569, 570, 571, 572, 573, 574, 575, 576, 577, 578, 579, 580, 581, 582, 583, 584, 585, 586, 587, 588, 589, 590, 591, 592, 593, 594, 595, 596, 597, 598, 599, 600, 601, 602, 603, 604, 605, 606, 607, 608, 609, 610, 611, 612, 613, 614, 615, 616, 617, 618, 619, 620, 621, 622, 623, 624, 625, 626, 627, 628, 629, 630, 631, 632, 633, 634, 635, 636, 637, 638, 639, 640, 641, 642, 643, 644, 645, 646, 647, 648, 649, 650, 651, 652, 653, 654, 655, 656, 657, 658, 659, 660, 661, 662, 663, 664, 665, 666, 667, 668, 669, 670, 671, 672, 673, 674, 675, 676, 677, 678, 679, 680, 681, 682, 683, 684, 685, 686, 687, 688, 689, 690, 691, 692, 693, 694, 695, 696, 697, 698, 699, 700, 701, 702, 703, 704, 705, 706, 707, 708, 709, 710, 711, 712, 713, 714, 715, 716, 717, 718, 719, 720, 721, 722, 723, 724, 725, 726, 727, 728, 729, 730, 731, 732, 733, 734, 735, 736, 737, 738, 739, 740, 741, 742, 743, 744, 745, 746, 747, 748, 749, 750, 751, 752, 753, 754, 755, 756, 757, 758, 759, 760, 761, 762, 763, 764, 765, 766, 767, 768, 769, 770, 771, 772, 773, 774, 775, 776, 777, 778, 779, 780, 781, 782, 783, 784, 785, 786, 787, 788, 789, 790, 791, 792, 793, 794, 795, 796, 797, 798, 799, 800, 801, 802, 803, 804, 805, 806, 807, 808, 809, 810, 811, 812, 813, 814, 815, 816, 817, 818, 819, 820, 821, 822, 823, 824, 825, 826, 827, 828, 829, 830, 831, 832, 833, 834, 835, 836, 837, 838, 839, 840, 841, 842, 843, 844, 845, 846, 847, 848, 849, 850, 851, 852, 853, 854, 855, 856, 857, 858, 859, 860, 861, 862, 863, 864, 865, 866, 867, 868, 869, 870, 871, 872, 873, 874, 875, 876, 877, 878, 879, 880, 881, 882, 883, 884, 885, 886, 887, 888, 889, 890, 891, 892, 893, 894, 895, 896, 897, 898, 899, 900, 901, 902, 903, 904, 905, 906, 907, 908, 909, 910, 911, 912, 913, 914, 915, 916, 917, 918, 919, 920, 921, 922, 923, 924, 925, 926, 927, 928, 929, 930, 931, 932, 933, 934, 935, 936, 937, 938, 939, 940, 941, 942, 943, 944, 945, 946, 947, 948, 949, 950, 951, 952, 953, 954, 955, 956, 957, 958, 959, 960, 961, 962, 963, 964, 965, 966, 967, 968, 969, 970, 971, 972, 973, 974, 975, 976, 977, 978, 979, 980, 981, 982, 983, 984, 985, 986, 987, 988, 989, 990, 991, 992, 993, 994, 995, 996, 997, 998, 999, 1000, 1001, 1002, 1003, 1004, 1005, 1006, 1007, 1008, 1009, 1010, 1011, 1012, 1013, 1014, 1015, 1016, 1017, 1018, 1019, 1020, 1021, 1022, 1023, 1024, 1025, 1026, 1027, 1028, 1029, 1030, 1031, 1032, 1033, 1034, 1035, 1036, 1037, 1038, 1039, 1040, 1041, 1042, 1043, 1044, 1045, 1046, 1047, 1048, 1049, 1050, 1051, 1052, 1053, 1054, 1055, 1056, 1057, 1058, 1059, 1060, 1061, 1062, 1063, 1064, 1065, 1066, 1067, 1068, 1069, 1070, 1071, 1072, 1073, 1074, 1075, 1076, 1077, 1078, 1079, 1080, 1081, 1082, 1083, 1084, 1085, 1086, 1087, 1088, 1089, 1090, 1091, 1092, 1093, 1094, 1095, 1096, 1097, 1098]\n",
      "[549, 1030, 457, 604, 423, 630, 56, 294, 760, 1072, 1088, 1053, 265, 1049, 139, 490, 44, 174, 707, 908, 290, 726, 327, 156, 1092, 439, 277, 447, 934, 665, 670, 834, 128, 711, 959, 141, 572, 757, 616, 109, 1034, 514, 477, 70, 465, 530, 1059, 948, 701, 482, 51, 777, 855, 113, 868, 1064, 107, 841, 178, 493, 862, 528, 318, 336, 273, 31, 449, 209, 86, 1071, 411, 561, 96, 780, 916, 578, 88, 361, 198, 442, 10, 936, 965, 566, 1041, 787, 1004, 904, 101, 617, 192, 720, 679, 231, 849, 59, 990, 825, 746, 523, 704, 398, 427, 23, 598, 420, 525, 893, 260, 208, 866, 1014, 83, 1089, 723, 210, 817, 660, 790, 355, 298, 388, 657, 49, 741, 365, 328, 218, 76, 824, 1051, 1058, 661, 730, 433, 785, 289, 773, 440, 1013, 199, 158, 519, 331, 367, 945, 413, 405, 575, 1094, 636, 334, 458, 78, 743, 270, 507, 545, 308, 306, 39, 30, 1087, 136, 54, 803, 798, 1055, 558, 319, 614, 3, 847, 584, 1067, 782, 771, 602, 359, 58, 63, 247, 708, 789, 100, 168, 533, 351, 243, 1050, 244, 605, 800, 734, 220, 377, 321, 66, 501, 67, 622, 12, 919, 954, 570, 292, 629, 921, 184, 692, 352, 910, 381, 914, 974, 925, 822, 783, 541, 286, 380, 2, 6, 634, 237, 848, 425, 786, 534, 874, 215, 823, 527, 409, 1037, 435, 256, 994, 650, 333, 716, 1079, 362, 885, 753, 712, 696, 25, 816, 275, 1002, 516, 106, 935, 55, 872, 213, 120, 865, 342, 72, 621, 961, 296, 531, 596, 759, 323, 992, 1098, 737, 844, 620, 436, 581, 60, 548, 92, 973, 371, 774, 280, 299, 1038, 987, 182, 700, 309, 110, 901, 591, 526, 479, 344, 354, 261, 464, 543, 883, 967, 137, 589, 903, 887, 346, 843, 1068, 29, 165, 248, 307, 984, 567, 332, 859, 756, 445, 404, 667, 594, 65, 494, 1075, 394, 254, 1033, 312, 877, 221, 235, 430, 595, 305, 539, 985, 1096, 249, 631, 486, 71, 94, 33, 713, 259, 204, 453, 715, 432, 77, 84, 997, 82, 869, 513, 978, 673, 428, 529, 350, 390, 5, 310, 542, 104, 97, 767, 758, 314, 506, 981, 1022, 281, 618, 266, 554, 238, 424, 145, 1026, 429, 615, 118, 668, 1054, 250, 481, 285, 462, 9, 451, 196, 722, 370, 81, 389, 522, 583, 739, 943, 239, 846, 211, 850, 504, 678, 227, 1010, 613, 752, 939, 177, 1062, 532, 1006, 582, 1017, 467, 1097, 7, 764, 155, 998, 357, 643, 223, 329, 587, 536, 920, 448, 675, 989, 689, 601, 688, 1061, 913, 551, 714, 1046, 694, 950, 792, 163, 228, 497, 864, 212, 906, 79, 148, 302, 599, 1047, 915, 538, 43, 478, 133, 814, 941, 593, 311, 408, 896, 993, 718, 931, 970, 971, 0, 422, 360, 382, 316, 917, 475, 837, 1024, 485, 799, 1060, 140, 172, 450, 125, 535, 590, 969, 1043, 90, 1065, 181, 363, 552, 274, 907, 251, 69, 291, 131, 300, 560, 326, 144, 499, 557, 693, 761, 495, 135, 338, 940, 164, 28, 193, 649, 169, 1019, 173, 518, 762, 585, 491, 73, 810, 234, 214, 784, 132, 754, 1005, 185, 41, 108, 703, 597, 827, 483, 468, 24, 972, 568, 626, 821, 366, 697, 383, 454, 264, 923, 809, 444, 395, 176, 18, 588, 677, 61, 272, 1032, 278, 886, 368, 879, 682, 644, 547, 728, 1080, 456, 393, 755, 796, 375, 412, 74, 1028, 500, 666, 114, 417, 89, 1052, 1020, 724, 731, 11, 396, 628, 937, 42, 167, 416, 576, 895, 426, 544, 1029, 1078, 811, 732, 257, 335, 15, 765, 324, 1057, 222, 179, 99, 521, 22, 356, 793, 1015, 611, 832, 340, 431, 652, 982, 203, 853, 93, 695, 68, 966, 284, 947, 434, 153, 75, 867, 580, 446, 188, 271, 236, 487, 1063, 559, 117, 875, 963, 512, 633, 956, 830, 706, 126, 116, 473, 820, 57, 603, 801, 656, 750, 105, 635, 369, 268, 655, 46, 349, 195, 102, 983, 938, 911, 873, 263, 889, 443, 802, 304, 341, 717, 313, 149, 124, 928, 968, 664, 50, 353, 1056, 142, 470, 653, 399, 745, 320, 19, 684, 953, 932, 952, 407, 537, 944, 740, 38, 175, 245, 976, 977, 892, 1012, 154, 638, 662, 287, 625, 685, 721, 569, 881, 17, 127, 322, 255, 781, 1081, 190, 115, 1076, 736, 606, 180, 301, 898, 845, 858, 812, 788, 517, 372, 45, 476, 157, 882, 171, 16, 511, 48, 191, 991, 515, 807, 813, 480, 283, 851, 962, 225, 26, 924, 437, 1070, 364, 229, 37, 669, 749, 1082, 374, 469, 1083, 687, 1003, 833, 861, 194, 1008, 1018, 503, 1084, 979, 579, 160, 680, 1036, 162, 705, 1069, 152, 808, 828, 894, 111, 226, 1040, 103, 421, 419, 888, 586, 922, 672, 119, 53, 151, 403, 1090, 207, 658, 996, 902, 8, 951, 36, 452, 651, 253, 303, 884, 571, 623, 1066, 852, 842, 262, 610, 297, 414, 150, 930, 778, 640, 1035, 550, 933, 488, 819, 710, 147, 146, 880, 345, 876, 1031, 659, 770, 348, 463, 325, 186, 123, 1007, 608, 143, 751, 1077, 197, 609, 836, 279, 293, 980, 400, 122, 183, 202, 438, 835, 246, 415, 918, 905, 1045, 909, 52, 129, 637, 402, 926, 912, 735, 854, 1048, 219, 641, 1, 890, 949, 80, 624, 988, 900, 386, 1086, 806, 509, 267, 964, 441, 496, 829, 112, 691, 232, 1023, 607, 671, 373, 826, 663, 1042, 233, 818, 927, 676, 317, 648, 410, 1039, 709, 358, 258, 744, 627, 632, 282, 376, 384, 224, 1074, 958, 472, 347, 505, 639, 1093, 797, 339, 555, 619, 1009, 946, 645, 999, 556, 681, 577, 795, 85, 242, 698, 838, 159, 524, 35, 540, 170, 654, 748, 1011, 1000, 484, 733, 899, 95, 563, 240, 742, 863, 574, 690, 460, 891, 553, 857, 1027, 206, 392, 794, 870, 397, 766, 1001, 217, 4, 768, 642, 461, 942, 612, 738, 960, 546, 986, 725, 1091, 683, 98, 804, 727, 573, 406, 502, 47, 32, 929, 779, 839, 200, 134, 27, 40, 230, 489, 772, 378, 288, 418, 674, 391, 592, 498, 138, 62, 471, 647, 520, 64, 14, 492, 379, 187, 763, 216, 791, 878, 337, 719, 295, 1016, 455, 815, 269, 995, 201, 161, 729, 401, 702, 565, 1021, 1025, 205, 34, 775, 508, 1085, 91, 897, 564, 776, 241, 13, 315, 600, 387, 166, 840, 20, 646, 831, 562, 1073, 686, 957, 189, 975, 699, 510, 474, 856, 747, 252, 21, 459, 276, 955, 385, 805, 343, 769, 130, 871, 87, 330, 466, 121, 1044, 1095, 860]\n"
     ]
    }
   ],
   "source": [
    "# Get data parameters\n",
    "batch_size = config.getint('training', 'batch_size')\n",
    "validation_size = config.getfloat('training', 'validation_set_size')\n",
    "dataset_size = len(train_data)\n",
    "nval = int(validation_size*dataset_size)\n",
    "indices = list(range(dataset_size))\n",
    "np.random.shuffle(indices)\n",
    "\n",
    "train_indices, val_indices = indices[nval:], indices[:nval]\n",
    "\n",
    "train_sampler = torch.utils.data.Subset(train_data, train_indices)\n",
    "valid_sampler = torch.utils.data.Subset(train_data, val_indices)\n",
    "\n",
    "train_loader = torch.utils.data.DataLoader(train_sampler, batch_size=batch_size, shuffle=True)\n",
    "valid_loader = torch.utils.data.DataLoader(valid_sampler, batch_size=batch_size, shuffle=True)"
   ]
  },
  {
   "cell_type": "code",
   "execution_count": 4,
   "metadata": {},
   "outputs": [],
   "source": [
    "learning_rate = config.getfloat('training', 'learning_rate')\n",
    "optimizers = {\n",
    "    'SGD': optim.SGD(net.parameters(), lr=learning_rate, momentum=0.9),\n",
    "    'Adagrad': optim.Adagrad(net.parameters(), lr=learning_rate),\n",
    "    'Adadelta': optim.Adadelta(net.parameters(), lr=learning_rate),\n",
    "    'Adam': optim.Adam(net.parameters(), lr=learning_rate)\n",
    "}"
   ]
  },
  {
   "cell_type": "code",
   "execution_count": 5,
   "metadata": {},
   "outputs": [
    {
     "name": "stderr",
     "output_type": "stream",
     "text": [
      "/usr/local/anaconda-python-3.6/lib/python3.6/site-packages/torch/nn/functional.py:2479: UserWarning: Default upsampling behavior when mode=bilinear is changed to align_corners=False since 0.4.0. Please specify align_corners=True if the old behavior is desired. See the documentation of nn.Upsample for details.\n",
      "  \"See the documentation of nn.Upsample for details.\".format(mode))\n"
     ]
    },
    {
     "name": "stdout",
     "output_type": "stream",
     "text": [
      "Epoch:  0\tTraining Loss: 0.626465\t\tValidation Loss: 0.568891\n",
      "\tValidation Loss Down: \t(     inf-->0.568891) ... Updating saved model.\n",
      "Epoch:  1\tTraining Loss: 0.588104\t\tValidation Loss: 0.568970\n",
      "Epoch:  2\tTraining Loss: 0.587432\t\tValidation Loss: 0.568968\n",
      "Epoch:  3\tTraining Loss: 0.587363\t\tValidation Loss: 0.568969\n",
      "Epoch:  4\tTraining Loss: 0.587279\t\tValidation Loss: 0.568969\n",
      "\n",
      "Finished training.\n",
      "Minimum Validation Loss: 0.568891\n",
      "\n"
     ]
    }
   ],
   "source": [
    "augmentation_loops = config.getint('data', 'number_rotations')\n",
    "if config.getboolean('data', 'flip'):\n",
    "    augmentation_loops = augmentation_loops*2\n",
    "save_validation_updates = True\n",
    "class_splitting_index = 1\n",
    "loss_function = nn.CrossEntropyLoss()\n",
    "optim_name = config['training']['optimizer']\n",
    "optimizer = optimizers[optim_name]\n",
    "training_results = {\n",
    "    'train_loss': 0,\n",
    "    'validation_loss': 0,\n",
    "    'validation_confussion_matrix': 0,\n",
    "    'validation_update': False\n",
    "}\n",
    "df = pd.DataFrame(columns = list(training_results.keys()))\n",
    "folder_name = config['output']['directory']\n",
    "output_evaluation_path = config['output']['training_evaluation']\n",
    "output_models_path = config['output']['model_file']\n",
    "os.makedirs(folder_name, exist_ok=True)\n",
    "\n",
    "# Variable selections\n",
    "validation_loss_min = np.Inf\n",
    "Epoch = config.getint('training', 'epochs')\n",
    "for epoch_count in range(Epoch):\n",
    "\n",
    "    # Model Training\n",
    "    train_loss = 0.\n",
    "    validation_loss = 0.\n",
    "    confussion_matrix = np.zeros((2,2))\n",
    "    net.train() #Set network to train mode.\n",
    "    if 'binary_labels' in locals():\n",
    "        del binary_labels\n",
    "    if 'outputs' in locals():\n",
    "        del outputs\n",
    "\n",
    "    # Loop across random data augmentations\n",
    "    for i in range(augmentation_loops):\n",
    "        for batch_idx , (data, labels) in enumerate(train_loader): #Iterates through each batch.\n",
    "            data = data.to(device)\n",
    "            labels = labels.to(device)\n",
    "\n",
    "            # Create binary labels to remove morphological subclassifications (for MiraBest)\n",
    "            binary_labels = np.zeros(labels.size(), dtype=int)\n",
    "            binary_labels = np.where(labels.cpu().numpy()<class_splitting_index, binary_labels, binary_labels+1)\n",
    "            binary_labels = torch.from_numpy(binary_labels).to(device)\n",
    "\n",
    "            pred = net.forward(data)\n",
    "            optimizer.zero_grad()\n",
    "            loss = loss_function(pred,binary_labels)\n",
    "            loss.backward(retain_graph=True)\n",
    "            optimizer.step()\n",
    "            train_loss += (loss.item()*data.size(0))\n",
    "\n",
    "\n",
    "    ### Model Validation ###\n",
    "    net.eval()\n",
    "    for epoch_valid in range(augmentation_loops):\n",
    "        for batch_idx, (data, labels) in enumerate(valid_loader):\n",
    "            data = data.to(device)\n",
    "            labels = labels.to(device)\n",
    "\n",
    "            # Create binary labels to remove morphological subclassifications\n",
    "            binary_labels = np.zeros(labels.size(), dtype=int)\n",
    "            binary_labels = np.where(labels.cpu().numpy()<class_splitting_index, binary_labels, binary_labels+1)\n",
    "            binary_labels = torch.from_numpy(binary_labels).to(device)\n",
    "\n",
    "            outputs = net.forward(data)\n",
    "            loss = loss_function(outputs, binary_labels)\n",
    "            validation_loss += (loss.item()*data.size(0))\n",
    "            \n",
    "            predictions = np.argmax(outputs.detach().cpu().numpy(), axis=1)\n",
    "            target_values = binary_labels.detach().cpu().numpy()\n",
    "            for x, y in zip(predictions, target_values):\n",
    "                confussion_matrix[x,y] += 1\n",
    "\n",
    "    # Average losses (scaled according to validation dataset size)\n",
    "    validation_loss = validation_loss/(len(valid_loader.dataset)*augmentation_loops)\n",
    "    train_loss = train_loss/(len(train_loader.dataset)*augmentation_loops)\n",
    "    training_results['train_loss'] = train_loss\n",
    "    training_results['validation_loss'] = validation_loss\n",
    "    training_results['validation_confussion_matrix'] = confussion_matrix\n",
    "\n",
    "    # Print\n",
    "    print(f\"Epoch:{epoch_count:3}\\tTraining Loss: {training_results['train_loss']:8.6f}\\t\\tValidation Loss: {training_results['validation_loss']:8.6f}\")\n",
    "\n",
    "    # Save model if validation loss decreased\n",
    "    if validation_loss <= validation_loss_min:\n",
    "        print(f\"\\tValidation Loss Down: \\t({validation_loss_min:8.6f}-->{validation_loss:8.6f}) ... Updating saved model.\")\n",
    "        training_results['validation_update'] = True\n",
    "        if save_validation_updates:\n",
    "            torch.save(net.state_dict(), f\"{folder_name}/{epoch_count}.pt\")\n",
    "        else:\n",
    "            torch.save(net.state_dict(), f\"{folder_name}/{output_models_path}\")\n",
    "        validation_loss_min = validation_loss\n",
    "    else:\n",
    "        training_results['validation_update'] = False\n",
    "\n",
    "    \n",
    "    # Save training loss / validation loss for plotting\n",
    "    df = df.append(training_results, ignore_index=True)\n",
    "\n",
    "\n",
    "df.to_csv(f'{folder_name}/{output_evaluation_path}', index=False)\n",
    "print(f\"\\nFinished training.\\nMinimum Validation Loss: {validation_loss_min:8.6}\\n\")\n",
    "\n",
    "# Save final model, no matter the loss\n",
    "torch.save(net.state_dict(), f'{folder_name}/last.pt')"
   ]
  },
  {
   "cell_type": "code",
   "execution_count": 6,
   "metadata": {},
   "outputs": [
    {
     "name": "stdout",
     "output_type": "stream",
     "text": [
      "tensor([[1.7334e-19, 1.0000e+00],\n",
      "        [5.1791e-28, 1.0000e+00],\n",
      "        [3.0462e-19, 1.0000e+00],\n",
      "        [3.5267e-28, 1.0000e+00],\n",
      "        [7.2231e-16, 1.0000e+00],\n",
      "        [3.8350e-19, 1.0000e+00],\n",
      "        [0.0000e+00, 1.0000e+00],\n",
      "        [6.2049e-16, 1.0000e+00],\n",
      "        [1.4988e-21, 1.0000e+00],\n",
      "        [9.4199e-24, 1.0000e+00],\n",
      "        [4.7575e-21, 1.0000e+00]], device='cuda:0', grad_fn=<SoftmaxBackward>)\n",
      "[1 1 1 1 1 1 1 1 1 1 1]\n",
      "[0 1 1 1 0 0 0 1 1 1 1]\n"
     ]
    },
    {
     "data": {
      "image/png": "[encoded data removed]",
      "text/plain": [
       "<Figure size 432x288 with 1 Axes>"
      ]
     },
     "metadata": {
      "needs_background": "light"
     },
     "output_type": "display_data"
    }
   ],
   "source": [
    "outputs = net.forward(data)\n",
    "print(outputs)\n",
    "print(np.argmax(outputs.detach().cpu().numpy(), axis=1))\n",
    "print(binary_labels.cpu().numpy())\n",
    "img = data[3].cpu().numpy().squeeze()\n",
    "plt.imshow(img)\n",
    "plt.show()"
   ]
  },
  {
   "cell_type": "code",
   "execution_count": 12,
   "metadata": {},
   "outputs": [
    {
     "name": "stdout",
     "output_type": "stream",
     "text": [
      "[[   0.    0.]\n",
      " [1792. 5216.]]\n"
     ]
    },
    {
     "data": {
      "image/png": "[encoded data removed]",
      "text/plain": [
       "<Figure size 432x288 with 1 Axes>"
      ]
     },
     "metadata": {
      "needs_background": "light"
     },
     "output_type": "display_data"
    },
    {
     "name": "stdout",
     "output_type": "stream",
     "text": [
      "7008.0\n",
      "7033.6\n"
     ]
    }
   ],
   "source": [
    "print(confussion_matrix)\n",
    "plt.imshow(confussion_matrix, cmap='Blues')\n",
    "plt.xlabel('True Label')\n",
    "plt.ylabel('Predicted Label')\n",
    "plt.xticks([0,1],['FRI','FRII'])\n",
    "plt.yticks([0,1],['FRI','FRII'])\n",
    "plt.show()\n",
    "print(confussion_matrix.sum())\n",
    "print(len(train_data)*0.2*16*2)"
   ]
  },
  {
   "cell_type": "raw",
   "metadata": {},
   "source": [
    "count = 0\n",
    "for data, label in traindata:\n",
    "    count+=1\n",
    "print(count)\n",
    "\n",
    "for d in trainset:\n",
    "    print(d)\n",
    "    break\n",
    "\n",
    "print(traindata.data.shape)\n",
    "print(len(traindata.targets))\n",
    "print(traindata[10:100][0].shape)\n",
    "plt.imshow(traindata[0][0].squeeze())\n",
    "plt.show()"
   ]
  },
  {
   "cell_type": "raw",
   "metadata": {},
   "source": [
    "counter = 0\n",
    "for data, label in traindata:\n",
    "    counter+=1\n",
    "    plt.imshow(np.asarray(data)[0])\n",
    "    plt.title(['FRI','FRII'][label])\n",
    "    plt.show()\n",
    "    if counter>5:\n",
    "        break"
   ]
  },
  {
   "cell_type": "raw",
   "metadata": {},
   "source": [
    "class Model:\n",
    "    def __init__(self, configfile):\n",
    "        # Read in the config file\n",
    "        self.config_name = configfile\n",
    "        self.config = ConfigParser.SafeConfigParser(allow_no_value=True)\n",
    "        self.config.read(self.config_name)\n",
    "        \n",
    "        self.device = torch.device(\"cuda\" if torch.cuda.is_available() else \"cpu\")\n",
    "\n",
    "        self.net = utils.net.load(\n",
    "            device=self.device, \n",
    "            **self.config['model'])\n",
    "        self.data = utils.data.load(\n",
    "            device=self.device, \n",
    "            rotations=self.config.getint('model', 'number_rotations'), \n",
    "            **self.config['data'])\n",
    "        self.train = utils.train.load(self.config_name)\n",
    "        \n",
    "        self.model_trained = self.config.getboolean('grid_search', 'done')\n",
    "        \n",
    "\n",
    "    def model_trained(self):\n",
    "        if self.config.getboolean('grid_search', 'done'):\n",
    "            print('Training not required')\n",
    "        else:\n",
    "            print('Training required')\n",
    "\n",
    "test_net = Model('configs/template.cfg')\n"
   ]
  },
  {
   "cell_type": "markdown",
   "metadata": {},
   "source": [
    "Data Manipulation:\n",
    "- path_to_model(file_name)\n",
    "- data_call(dataset_name)\n",
    "- determine_dataset(dataset,model_name) ... dataset in ['automatic','FRDEEP-F','MiraBest']\n",
    "\n",
    "Model Manipulation:\n",
    "- load_net(model_name,device)\n",
    "- training_validation(PATH,xlims=[None,None],save=False,full_path=False) ... PATH is a local title of a folder or file (within ./TrainedNetworks)\n",
    "- prediction(dataset, net, class_groups,(device='cuda',reps='360'))\n",
    "- evaluate(file_name, dataset='automatic')\n",
    "\n",
    "Evaluation Plots:\n",
    "- plot_conf_mat(conf_matrix,normalised=True,n_classes=2,format_input=None,title='Confusion Matrix')\n",
    "- plot_roc_curve(fpr,tpr,title='ROC Curve (AUC=\\{auc:.3f\\})')\n",
    "- out_print(out)\n",
    "\n",
    "Attention Maps:\n",
    "- attentions_func(batch_of_images, net, mean=True, device=torch.device('cpu'))\n",
    "- attention_analysis(source, source_only=True, attention_maps=None, GradCAM=None)\n",
    "- AttentionImagesByEpoch(sources, folder_name, net,epoch=1500, device=torch.device('cpu'))\n",
    "- attention_epoch_plot(source_images,folder_name, logged=False, width=3, device=torch.device('cpu'))\n",
    "\n",
    "GradCAM:\n",
    "- To be completed.\n",
    "\n",
    "Other:\n",
    "- mask_on_image(img, mask)\n",
    "- SortedDataSamples(data_name, transformed=True,  rotations=1, subset='NOHYBRID')\n",
    "- net_name_extraction(PATH)\n",
    "\n",
    "Incomplete:\n",
    "- Loading from Pickled dicts\n",
    "- GradCAM Call for a given image"
   ]
  },
  {
   "cell_type": "raw",
   "metadata": {},
   "source": [
    "lr = model.config['grid_search']['learning_rate'].split(',')[1:]"
   ]
  },
  {
   "cell_type": "code",
   "execution_count": null,
   "metadata": {},
   "outputs": [],
   "source": []
  }
 ],
 "metadata": {
  "kernelspec": {
   "display_name": "Python 3",
   "language": "python",
   "name": "python3"
  },
  "language_info": {
   "codemirror_mode": {
    "name": "ipython",
    "version": 3
   },
   "file_extension": ".py",
   "mimetype": "text/x-python",
   "name": "python",
   "nbconvert_exporter": "python",
   "pygments_lexer": "ipython3",
   "version": "3.6.9"
  }
 },
 "nbformat": 4,
 "nbformat_minor": 5
}
