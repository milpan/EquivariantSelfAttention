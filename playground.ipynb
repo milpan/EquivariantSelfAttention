{
 "cells": [
  {
   "cell_type": "code",
   "execution_count": 1,
   "id": "included-death",
   "metadata": {},
   "outputs": [],
   "source": [
    "import os\n",
    "\n",
    "import torch\n",
    "import torch.nn as nn\n",
    "import torch.nn.functional as F\n",
    "\n",
    "import configparser\n",
    "import numpy as np\n",
    "\n",
    "import datasets\n",
    "import models"
   ]
  },
  {
   "cell_type": "code",
   "execution_count": 12,
   "id": "ahead-folder",
   "metadata": {},
   "outputs": [
    {
     "ename": "AttributeError",
     "evalue": "'ConfigParser' object has no attribute 'red'",
     "output_type": "error",
     "traceback": [
      "\u001b[0;31m---------------------------------------------------------------------------\u001b[0m",
      "\u001b[0;31mAttributeError\u001b[0m                            Traceback (most recent call last)",
      "\u001b[0;32m<ipython-input-12-ebd7a1d1c2f1>\u001b[0m in \u001b[0;36m<module>\u001b[0;34m\u001b[0m\n\u001b[1;32m      2\u001b[0m \u001b[0mconfig_path\u001b[0m \u001b[0;34m=\u001b[0m \u001b[0;34mf\"configs/template.cfg\"\u001b[0m\u001b[0;34m\u001b[0m\u001b[0;34m\u001b[0m\u001b[0m\n\u001b[1;32m      3\u001b[0m \u001b[0mconfig\u001b[0m \u001b[0;34m=\u001b[0m \u001b[0mconfigparser\u001b[0m\u001b[0;34m.\u001b[0m\u001b[0mConfigParser\u001b[0m\u001b[0;34m(\u001b[0m\u001b[0;34m)\u001b[0m\u001b[0;34m\u001b[0m\u001b[0;34m\u001b[0m\u001b[0m\n\u001b[0;32m----> 4\u001b[0;31m \u001b[0mconfig\u001b[0m\u001b[0;34m.\u001b[0m\u001b[0mred\u001b[0m\u001b[0;34m(\u001b[0m\u001b[0mconfig_path\u001b[0m\u001b[0;34m)\u001b[0m\u001b[0;34m\u001b[0m\u001b[0;34m\u001b[0m\u001b[0m\n\u001b[0m\u001b[1;32m      5\u001b[0m \u001b[0;34m\u001b[0m\u001b[0m\n\u001b[1;32m      6\u001b[0m \u001b[0;31m# Select model according to config\u001b[0m\u001b[0;34m\u001b[0m\u001b[0;34m\u001b[0m\u001b[0;34m\u001b[0m\u001b[0m\n",
      "\u001b[0;31mAttributeError\u001b[0m: 'ConfigParser' object has no attribute 'red'"
     ]
    }
   ],
   "source": [
    "# load in config\n",
    "config_path = f\"configs/template.cfg\"\n",
    "config = configparser.ConfigParser()\n",
    "config.red(config_path)\n",
    "\n",
    "# Select model according to config\n",
    "net = load_model(config['model']['name'])\n",
    "\n",
    "# Select data\n",
    "data = select_data(config['data']['name'])\n",
    "\n",
    "# Grid Search\n",
    "hyperparams = grid_search(net, data, **config['training'])\n",
    "\n",
    "# Retrain with Best Hyperparameters\n",
    "model = final_train(net, data, net)\n",
    "\n",
    "# Evaluate Model\n",
    "\n",
    "\n",
    "# Generate Plots\n",
    "\n"
   ]
  },
  {
   "cell_type": "code",
   "execution_count": 6,
   "id": "completed-warehouse",
   "metadata": {},
   "outputs": [
    {
     "name": "stdout",
     "output_type": "stream",
     "text": [
      "['model', 'data', 'training', 'output']\n",
      "base nrot early_stopping quiet\n",
      "'VanillaLeNet'            # network: [VanillaLeNet, CNSteerableLeNet, DNSteerableLeNet]\n"
     ]
    }
   ],
   "source": [
    "config_path = f\"configs/template.cfg\"\n",
    "config = configparser.ConfigParser()\n",
    "config.read(config_path)\n",
    "print(config.sections())\n",
    "print(*config['model'])\n",
    "print(config['model']['base'])"
   ]
  },
  {
   "cell_type": "code",
   "execution_count": 5,
   "id": "rough-alias",
   "metadata": {},
   "outputs": [
    {
     "data": {
      "text/plain": [
       "<module 'datasets.FRDEEP' from '/Users/mBowles/Documents/github/EquivariantSelfAttention/datasets/FRDEEP.py'>"
      ]
     },
     "execution_count": 5,
     "metadata": {},
     "output_type": "execute_result"
    }
   ],
   "source": [
    "datasets.FRDEEP()"
   ]
  },
  {
   "cell_type": "code",
   "execution_count": 11,
   "id": "improved-bailey",
   "metadata": {},
   "outputs": [],
   "source": [
    "def test(base, nrot, early_stopping, quiet):\n",
    "    return None\n",
    "test(**config['model'])"
   ]
  },
  {
   "cell_type": "code",
   "execution_count": null,
   "id": "planned-group",
   "metadata": {},
   "outputs": [],
   "source": []
  }
 ],
 "metadata": {
  "kernelspec": {
   "display_name": "Python 3",
   "language": "python",
   "name": "python3"
  },
  "language_info": {
   "codemirror_mode": {
    "name": "ipython",
    "version": 3
   },
   "file_extension": ".py",
   "mimetype": "text/x-python",
   "name": "python",
   "nbconvert_exporter": "python",
   "pygments_lexer": "ipython3",
   "version": "3.9.1"
  }
 },
 "nbformat": 4,
 "nbformat_minor": 5
}
