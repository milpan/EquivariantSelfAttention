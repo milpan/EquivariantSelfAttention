{
 "cells": [
  {
   "cell_type": "markdown",
   "id": "emerging-tuning",
   "metadata": {},
   "source": [
    "# Evaluation of a Model"
   ]
  },
  {
   "cell_type": "code",
   "execution_count": 1,
   "id": "figured-duncan",
   "metadata": {
    "tags": []
   },
   "outputs": [
    {
     "data": {
      "text/plain": [
       "'# Read in config file\\nconfig_name = [\"bowles2021mirabest.cfg\", \\n               \"bowles2021mingo.cfg\", \\n               \"scaife2021mirabestDN.cfg\", \\n               \"scaife2021mingo.cfg\", \\n               \"e2attentionmirabest.cfg\"\\n              ]\\nconfig_name = \"configs/\"+config_name[-1]\\nconfig = ConfigParser.ConfigParser(allow_no_value=True)\\nconfig.read(config_name)\\n\\n# Load network architecture (with random weights)\\nprint(f\"Loading in {config[\\'model\\'][\\'base\\']}\")\\nnet = locals()[config[\\'model\\'][\\'base\\']](**config[\\'model\\']).to(device)\\n'"
      ]
     },
     "execution_count": 1,
     "metadata": {},
     "output_type": "execute_result"
    }
   ],
   "source": [
    "import os\n",
    "\n",
    "import e2cnn\n",
    "\n",
    "import torch\n",
    "import torch.nn as nn\n",
    "import torch.nn.functional as F\n",
    "import torch.optim as optim\n",
    "from torchvision import transforms\n",
    "import PIL\n",
    "\n",
    "import pandas as pd\n",
    "import numpy as np\n",
    "import matplotlib.pyplot as plt\n",
    "import configparser as ConfigParser\n",
    "\n",
    "import utils\n",
    "# Ipmport various network architectures\n",
    "from networks import AGRadGalNet, DNSteerableLeNet, DNSteerableAGRadGalNet #e2cnn module only works in python3.7+\n",
    "# Import various data classes\n",
    "from datasets import FRDEEPF\n",
    "from datasets import MiraBest_full, MBFRConfident, MBFRUncertain, MBHybrid\n",
    "from datasets import MingoLoTSS, MLFR, MLFRTest\n",
    "\n",
    "from sklearn.metrics import classification_report, roc_curve, auc\n",
    "\n",
    "# Set seeds for reproduceability\n",
    "torch.manual_seed(42)\n",
    "np.random.seed(42)\n",
    "\n",
    "# Get correct device\n",
    "device = torch.device(\"cuda\" if torch.cuda.is_available() else \"cpu\")\n",
    "\n",
    "\"\"\"# Read in config file\n",
    "config_name = [\"bowles2021mirabest.cfg\", \n",
    "               \"bowles2021mingo.cfg\", \n",
    "               \"scaife2021mirabestDN.cfg\", \n",
    "               \"scaife2021mingo.cfg\", \n",
    "               \"e2attentionmirabest.cfg\"\n",
    "              ]\n",
    "config_name = \"configs/\"+config_name[-1]\n",
    "config = ConfigParser.ConfigParser(allow_no_value=True)\n",
    "config.read(config_name)\n",
    "\n",
    "# Load network architecture (with random weights)\n",
    "print(f\"Loading in {config['model']['base']}\")\n",
    "net = locals()[config['model']['base']](**config['model']).to(device)\n",
    "\"\"\""
   ]
  },
  {
   "cell_type": "code",
   "execution_count": 5,
   "id": "technical-financing",
   "metadata": {
    "tags": []
   },
   "outputs": [
    {
     "name": "stderr",
     "output_type": "stream",
     "text": [
      "/raid/scratch/mbowles/EquivariantSelfAttention/venv/lib/python3.8/site-packages/e2cnn/nn/modules/r2_conv/basisexpansion_singleblock.py:61: UserWarning: indexing with dtype torch.uint8 is now deprecated, please use a dtype torch.bool instead. (Triggered internally at  /pytorch/aten/src/ATen/native/IndexingUtils.h:30.)\n",
      "  sampled_basis = sampled_basis[mask, ...]\n"
     ]
    },
    {
     "name": "stdout",
     "output_type": "stream",
     "text": [
      "Evaluating 5kernel_e2attentionmirabest-RandAug.cfg: models/e2attention/5kernel/mirabest/random rotation\tMBFRUncertain\trandom rotation\n",
      "Files already downloaded and verified\n"
     ]
    },
    {
     "name": "stderr",
     "output_type": "stream",
     "text": [
      "/raid/scratch/mbowles/EquivariantSelfAttention/venv/lib/python3.8/site-packages/torchvision/transforms/transforms.py:1314: UserWarning: Argument resample is deprecated and will be removed since v0.10.0. Please, use interpolation instead\n",
      "  warnings.warn(\n",
      "/raid/scratch/mbowles/EquivariantSelfAttention/venv/lib/python3.8/site-packages/torch/nn/functional.py:3451: UserWarning: Default upsampling behavior when mode=bilinear is changed to align_corners=False since 0.4.0. Please specify align_corners=True if the old behavior is desired. See the documentation of nn.Upsample for details.\n",
      "  warnings.warn(\n"
     ]
    },
    {
     "name": "stdout",
     "output_type": "stream",
     "text": [
      "Evaluating 5kernel_e2attentionmirabest-RandAug.cfg: models/e2attention/5kernel/mirabest/random rotation\tMLFR\trandom rotation\n"
     ]
    },
    {
     "name": "stderr",
     "output_type": "stream",
     "text": [
      "/raid/scratch/mbowles/EquivariantSelfAttention/venv/lib/python3.8/site-packages/torchvision/transforms/transforms.py:1314: UserWarning: Argument resample is deprecated and will be removed since v0.10.0. Please, use interpolation instead\n",
      "  warnings.warn(\n"
     ]
    },
    {
     "name": "stdout",
     "output_type": "stream",
     "text": [
      "Files already downloaded and verified\n"
     ]
    },
    {
     "name": "stderr",
     "output_type": "stream",
     "text": [
      "/raid/scratch/mbowles/EquivariantSelfAttention/venv/lib/python3.8/site-packages/torch/nn/functional.py:3451: UserWarning: Default upsampling behavior when mode=bilinear is changed to align_corners=False since 0.4.0. Please specify align_corners=True if the old behavior is desired. See the documentation of nn.Upsample for details.\n",
      "  warnings.warn(\n",
      "/raid/scratch/mbowles/EquivariantSelfAttention/venv/lib/python3.8/site-packages/sklearn/metrics/_classification.py:1245: UndefinedMetricWarning: Precision and F-score are ill-defined and being set to 0.0 in labels with no predicted samples. Use `zero_division` parameter to control this behavior.\n",
      "  _warn_prf(average, modifier, msg_start, len(result))\n",
      "/raid/scratch/mbowles/EquivariantSelfAttention/venv/lib/python3.8/site-packages/sklearn/metrics/_classification.py:1245: UndefinedMetricWarning: Precision and F-score are ill-defined and being set to 0.0 in labels with no predicted samples. Use `zero_division` parameter to control this behavior.\n",
      "  _warn_prf(average, modifier, msg_start, len(result))\n",
      "/raid/scratch/mbowles/EquivariantSelfAttention/venv/lib/python3.8/site-packages/sklearn/metrics/_classification.py:1245: UndefinedMetricWarning: Precision and F-score are ill-defined and being set to 0.0 in labels with no predicted samples. Use `zero_division` parameter to control this behavior.\n",
      "  _warn_prf(average, modifier, msg_start, len(result))\n",
      "/raid/scratch/mbowles/EquivariantSelfAttention/venv/lib/python3.8/site-packages/e2cnn/nn/modules/r2_conv/basisexpansion_singleblock.py:61: UserWarning: indexing with dtype torch.uint8 is now deprecated, please use a dtype torch.bool instead. (Triggered internally at  /pytorch/aten/src/ATen/native/IndexingUtils.h:30.)\n",
      "  sampled_basis = sampled_basis[mask, ...]\n"
     ]
    },
    {
     "name": "stdout",
     "output_type": "stream",
     "text": [
      "Evaluating 7kernel_e2attentionmirabest-RandAug.cfg: models/e2attention/7kernel/mirabest/random rotation\tMBFRUncertain\trandom rotation\n",
      "Files already downloaded and verified\n"
     ]
    },
    {
     "name": "stderr",
     "output_type": "stream",
     "text": [
      "/raid/scratch/mbowles/EquivariantSelfAttention/venv/lib/python3.8/site-packages/torchvision/transforms/transforms.py:1314: UserWarning: Argument resample is deprecated and will be removed since v0.10.0. Please, use interpolation instead\n",
      "  warnings.warn(\n",
      "/raid/scratch/mbowles/EquivariantSelfAttention/venv/lib/python3.8/site-packages/torch/nn/functional.py:3451: UserWarning: Default upsampling behavior when mode=bilinear is changed to align_corners=False since 0.4.0. Please specify align_corners=True if the old behavior is desired. See the documentation of nn.Upsample for details.\n",
      "  warnings.warn(\n"
     ]
    },
    {
     "name": "stdout",
     "output_type": "stream",
     "text": [
      "Evaluating 7kernel_e2attentionmirabest-RandAug.cfg: models/e2attention/7kernel/mirabest/random rotation\tMLFR\trandom rotation\n"
     ]
    },
    {
     "name": "stderr",
     "output_type": "stream",
     "text": [
      "/raid/scratch/mbowles/EquivariantSelfAttention/venv/lib/python3.8/site-packages/torchvision/transforms/transforms.py:1314: UserWarning: Argument resample is deprecated and will be removed since v0.10.0. Please, use interpolation instead\n",
      "  warnings.warn(\n"
     ]
    },
    {
     "name": "stdout",
     "output_type": "stream",
     "text": [
      "Files already downloaded and verified\n"
     ]
    },
    {
     "name": "stderr",
     "output_type": "stream",
     "text": [
      "/raid/scratch/mbowles/EquivariantSelfAttention/venv/lib/python3.8/site-packages/torch/nn/functional.py:3451: UserWarning: Default upsampling behavior when mode=bilinear is changed to align_corners=False since 0.4.0. Please specify align_corners=True if the old behavior is desired. See the documentation of nn.Upsample for details.\n",
      "  warnings.warn(\n",
      "/raid/scratch/mbowles/EquivariantSelfAttention/venv/lib/python3.8/site-packages/sklearn/metrics/_classification.py:1245: UndefinedMetricWarning: Precision and F-score are ill-defined and being set to 0.0 in labels with no predicted samples. Use `zero_division` parameter to control this behavior.\n",
      "  _warn_prf(average, modifier, msg_start, len(result))\n",
      "/raid/scratch/mbowles/EquivariantSelfAttention/venv/lib/python3.8/site-packages/sklearn/metrics/_classification.py:1245: UndefinedMetricWarning: Precision and F-score are ill-defined and being set to 0.0 in labels with no predicted samples. Use `zero_division` parameter to control this behavior.\n",
      "  _warn_prf(average, modifier, msg_start, len(result))\n",
      "/raid/scratch/mbowles/EquivariantSelfAttention/venv/lib/python3.8/site-packages/sklearn/metrics/_classification.py:1245: UndefinedMetricWarning: Precision and F-score are ill-defined and being set to 0.0 in labels with no predicted samples. Use `zero_division` parameter to control this behavior.\n",
      "  _warn_prf(average, modifier, msg_start, len(result))\n"
     ]
    }
   ],
   "source": [
    "torch.manual_seed(42)\n",
    "np.random.seed(42)\n",
    "device = torch.device(\"cuda\" if torch.cuda.is_available() else \"cpu\")\n",
    "\n",
    "configs = [\n",
    "    #\"scaife2021mirabest.cfg\", # Fully Evaluated\n",
    "    #\"scaife2021mirabest-RandAug.cfg\", # Fully Evaluated\n",
    "    #\"scaife2021mirabest-RestrictedAug.cfg\", # Fully Evaluated\n",
    "    #\"scaife2021mingo.cfg\", # Fully Evaluated\n",
    "    #\"scaife2021mingo-RandAug.cfg\", # Fully Evaluated\n",
    "    #\"scaife2021mingo-RestrictedAug.cfg\", # Fully Evaluated\n",
    "    \n",
    "    #\"bowles2021mirabest.cfg\", # Fully Evaluated\n",
    "    #\"bowles2021mirabest-RandAug.cfg\", # Fully Evaluated\n",
    "    #\"bowles2021mirabest-RestrictedAug.cfg\", # Fully Evaluated\n",
    "    #\"bowles2021mingo.cfg\", # Fully Evaluated\n",
    "    #\"bowles2021mingo-RandAug.cfg\", # Fully Evaluated\n",
    "    #\"bowles2021mingo-RestrictedAug.cfg\", # Fully Evaluated\n",
    "    \n",
    "    #\"e2attentionmirabest.cfg\", # Fully Evaluated\n",
    "    #\"e2attentionmirabest-RandAug.cfg\", # Fully Evaluated\n",
    "    #\"e2attentionmirabest-RestrictedAug.cfg\", # Fully Evaluated\n",
    "    #\"e2attentionmingo.cfg\", # Fully Evaluated\n",
    "    #\"e2attentionmingo-RandAug.cfg\", # Fully Evaluated\n",
    "    #\"e2attentionmingo-RestrictedAug.cfg\", # Fully Evaluated\n",
    "    \n",
    "    #\"5kernel_e2attentionmirabest.cfg\",\n",
    "    \"5kernel_e2attentionmirabest-RandAug.cfg\",\n",
    "    #\"5kernel_e2attentionmirabest-RestrictedAug.cfg\",\n",
    "    #\"5kernel_e2attentionmingo.cfg\",\n",
    "    #\"5kernel_e2attentionmingo-RandAug.cfg\", # Fully Evaluated\n",
    "    #\"5kernel_e2attentionmingo-RestrictedAug.cfg\",\n",
    "    \n",
    "    #\"7kernel_e2attentionmirabest.cfg\",\n",
    "    \"7kernel_e2attentionmirabest-RandAug.cfg\",\n",
    "    #\"7kernel_e2attentionmirabest-RestrictedAug.cfg\",\n",
    "    #\"7kernel_e2attentionmingo.cfg\",\n",
    "    #\"7kernel_e2attentionmingo-RandAug.cfg\", # Fully Evaluated\n",
    "    #\"7kernel_e2attentionmingo-RestrictedAug.cfg\"\n",
    "]\n",
    "\n",
    "data_configs = [\n",
    "    \"e2attentionmirabest.cfg\", # Mirabest Dataset - MBFR\n",
    "    \"e2attentionmingo.cfg\" # Mingo Dataset - MLFR\n",
    "]\n",
    "augmentations = [\n",
    "    #\"rotation and flipping\",\n",
    "    \"random rotation\",\n",
    "    #\"restricted random rotation\"\n",
    "]\n",
    "\n",
    "for cfg in configs:\n",
    "    config = ConfigParser.ConfigParser(allow_no_value=True)\n",
    "    data_config = ConfigParser.ConfigParser(allow_no_value=True)\n",
    "    config.read('configs/'+cfg)\n",
    "    csv_path = config['output']['directory'] +'/'+ config['data']['augment'] +'/'+ config['output']['training_evaluation']\n",
    "    df = pd.read_csv(csv_path)\n",
    "    best = df.iloc[list(df['validation_update'])].iloc[-1]\n",
    "    \n",
    "    # Extract models kernel size\n",
    "    if config.has_option('model', 'kernel_size'):\n",
    "        kernel_size = config.getint('model', 'kernel_size')\n",
    "    elif \"LeNet\" in config['model']['base']:\n",
    "        kernel_size = 5\n",
    "    else:\n",
    "        kernel_size = 3\n",
    "\n",
    "    net = locals()[config['model']['base']](**config['model']).to(device)\n",
    "    \n",
    "\n",
    "    for d_cfg in data_configs:\n",
    "        for augmentation in augmentations:\n",
    "            path_supliment = config['data']['augment']+'/'\n",
    "            model = utils.utils.load_model(config, load_model='best', device=device, path_supliment=path_supliment)\n",
    "            data_config.read('configs/'+d_cfg)\n",
    "            print(f\"Evaluating {cfg}: {config['output']['directory']}/{config['data']['augment']}\\t{data_config['data']['dataset']}\\t{augmentation}\")\n",
    "            data  = utils.data.load(\n",
    "                data_config,\n",
    "                train=False,\n",
    "                augmentation=augmentation, \n",
    "                data_loader=True\n",
    "            )\n",
    "            \n",
    "            y_pred, y_labels = utils.evaluation.predict(\n",
    "                model, \n",
    "                data, \n",
    "                augmentation_loops=100, \n",
    "                raw_predictions=True\n",
    "            )\n",
    "            \n",
    "            utils.evaluation.save_evaluation(\n",
    "                y_pred, \n",
    "                y_labels,\n",
    "                model_name=config['model']['base'],\n",
    "                kernel_size=kernel_size,\n",
    "                train_data=config['data']['dataset'],\n",
    "                train_augmentation=config['data']['augment'],\n",
    "                test_data=data_config['data']['dataset'],\n",
    "                test_augmentation=augmentation,\n",
    "                epoch=int(best.name),\n",
    "                best=True,\n",
    "                raw=False,\n",
    "                PATH='./'\n",
    "            )"
   ]
  },
  {
   "cell_type": "code",
   "execution_count": null,
   "id": "parliamentary-hardware",
   "metadata": {},
   "outputs": [],
   "source": []
  }
 ],
 "metadata": {
  "kernelspec": {
   "display_name": "Python 3",
   "language": "python",
   "name": "python3"
  },
  "language_info": {
   "codemirror_mode": {
    "name": "ipython",
    "version": 3
   },
   "file_extension": ".py",
   "mimetype": "text/x-python",
   "name": "python",
   "nbconvert_exporter": "python",
   "pygments_lexer": "ipython3",
   "version": "3.8.5"
  }
 },
 "nbformat": 4,
 "nbformat_minor": 5
}
